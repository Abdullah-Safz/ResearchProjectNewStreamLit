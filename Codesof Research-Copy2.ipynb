{
 "cells": [
  {
   "cell_type": "code",
   "execution_count": 1,
   "metadata": {
    "id": "AWrE7_tsRMLF"
   },
   "outputs": [],
   "source": [
    "import pandas as pd\n",
    "import numpy as np\n",
    "import matplotlib.pyplot as plt\n",
    "import seaborn as sns\n",
    "from sklearn.model_selection import train_test_split\n",
    "from sklearn.preprocessing import OneHotEncoder, LabelEncoder\n",
    "from sklearn.linear_model import LinearRegression\n",
    "from sklearn.tree import DecisionTreeRegressor\n",
    "from sklearn.ensemble import RandomForestRegressor\n",
    "from sklearn.metrics import mean_absolute_error, mean_squared_error, r2_score\n",
    "from sklearn.compose import ColumnTransformer\n",
    "from sklearn.pipeline import Pipeline\n",
    "from sklearn.impute import SimpleImputer\n",
    "\n"
   ]
  },
  {
   "cell_type": "code",
   "execution_count": 2,
   "metadata": {
    "colab": {
     "base_uri": "https://localhost:8080/",
     "height": 1000
    },
    "id": "eo9zjdfzSDKW",
    "outputId": "f72fa066-ad90-4a02-e7cf-611eb462d0cd"
   },
   "outputs": [
    {
     "name": "stdout",
     "output_type": "stream",
     "text": [
      "  Country      Type of Ownership  Industry Sector  \\\n",
      "0  Sri Lanka       Local Investor        Services   \n",
      "1        USA        Joint Venture        Services   \n",
      "2     Norway     Foreign Investor   Manufacturing   \n",
      "3  Sri Lanka       Local Investor   Manufacturing   \n",
      "4  Sri Lanka       Local Investor   Manufacturing   \n",
      "\n",
      "                         Size of Investment   Investment Description  \\\n",
      "0  Medium (10 USD million to 100 USD million)      5 years and above   \n",
      "1            Small (Less than 10 USD million)      5 years and above   \n",
      "2            Small (Less than 10 USD million)      5 years and above   \n",
      "3  Medium (10 USD million to 100 USD million)      5 years and above   \n",
      "4            Small (Less than 10 USD million)                3 years   \n",
      "\n",
      "  Investment Years  Investor Facilitation Center  Environment  Engineering   \\\n",
      "0              25+                             5            5             4   \n",
      "1         17 years                             3            4             3   \n",
      "2               42                             3            3             3   \n",
      "3               31                             4            4             5   \n",
      "4              NaN                             3            3             3   \n",
      "\n",
      "   Investment approvals  ...  IT  Zonal Infrastructure  Zonal  Utility  \\\n",
      "0                     4  ...   4                   4.0             4.0   \n",
      "1                     3  ...   3                   3.0             3.0   \n",
      "2                     3  ...   3                   3.0             3.0   \n",
      "3                     5  ...   4                   4.0             3.0   \n",
      "4                     4  ...   4                   3.0             3.0   \n",
      "\n",
      "   Zonal  Waste Management  Zonal Security & Fire Facilities  \\\n",
      "0                      4.0                               4.0   \n",
      "1                      3.0                               3.0   \n",
      "2                      3.0                               4.0   \n",
      "3                      4.0                               3.0   \n",
      "4                      3.0                               3.0   \n",
      "\n",
      "   Tax incentives to investors  Government Policies  Ease of doing business  \\\n",
      "0                            4                    4                       4   \n",
      "1                            3                    3                       3   \n",
      "2                            3                    3                       3   \n",
      "3                            3                    3                       3   \n",
      "4                            3                    3                       3   \n",
      "\n",
      "   Skilled labor  Satisfaction   \n",
      "0              4           75.0  \n",
      "1              3           70.0  \n",
      "2              3           70.0  \n",
      "3              3           50.0  \n",
      "4              3           45.0  \n",
      "\n",
      "[5 rows x 27 columns]\n"
     ]
    }
   ],
   "source": [
    "\n",
    "# Assuming the dataset is stored as a CSV file.\n",
    "# Replace with your actual dataset file path.\n",
    "\n",
    "# Upload the file\n",
    "\n",
    "\n",
    "# Assuming the file is named 'your_dataset.xlsx'\n",
    "df = pd.read_excel('Data.xlsx')\n",
    "\n",
    "# Display the first few rows of the dataset\n",
    "print(df.head())\n",
    "\n"
   ]
  },
  {
   "cell_type": "code",
   "execution_count": 3,
   "metadata": {},
   "outputs": [],
   "source": [
    "df = df.drop(columns=['Investment Description', 'Investment Years'], axis = 1 )\n"
   ]
  },
  {
   "cell_type": "code",
   "execution_count": 5,
   "metadata": {
    "colab": {
     "base_uri": "https://localhost:8080/"
    },
    "id": "ZqFSRWT8uubw",
    "outputId": "8454d881-00c4-47f1-d2ca-cf905e382d56"
   },
   "outputs": [
    {
     "name": "stdout",
     "output_type": "stream",
     "text": [
      "Index(['Country', 'Type of Ownership', 'Industry Sector', 'Size of Investment',\n",
      "       'Investor Facilitation Center', 'Environment', 'Engineering',\n",
      "       'Investment approvals', 'External Line Agencies', 'Legal Activities',\n",
      "       'Implementation Period', 'Issuing Tax Certificate', 'Import & Export',\n",
      "       'Industrial Relations', 'Research and Policy', 'IT',\n",
      "       'Zonal Infrastructure', 'Zonal Utility', 'Zonal Waste Management',\n",
      "       'Zonal Security & Fire Facilities', 'Tax incentives to investors',\n",
      "       'Government Policies', 'Ease of doing business', 'Skilled labor',\n",
      "       'Satisfaction'],\n",
      "      dtype='object')\n"
     ]
    }
   ],
   "source": [
    "df.columns = df.columns.str.strip().str.replace(r'\\s+', ' ', regex=True)\n",
    "print(df.columns)\n"
   ]
  },
  {
   "cell_type": "code",
   "execution_count": 6,
   "metadata": {
    "colab": {
     "base_uri": "https://localhost:8080/",
     "height": 630
    },
    "id": "ZZYe8v1vvYpC",
    "outputId": "faaa6dfe-4ab0-44e3-f3a4-c8d0df8f11a8"
   },
   "outputs": [
    {
     "data": {
      "image/png": "[encoded data removed]",
      "text/plain": [
       "<Figure size 640x480 with 1 Axes>"
      ]
     },
     "metadata": {},
     "output_type": "display_data"
    }
   ],
   "source": [
    "sns.countplot(data=df, x='Country', color='skyblue')\n",
    "\n",
    "plt.title('Distribution of Country', fontsize=16)\n",
    "plt.xlabel('Country', fontsize=12)\n",
    "plt.ylabel('Frequency', fontsize=12)\n",
    "plt.xticks(rotation=90)  # Rotate x-axis labels if there are many countries\n",
    "plt.show()"
   ]
  },
  {
   "cell_type": "code",
   "execution_count": 7,
   "metadata": {
    "colab": {
     "base_uri": "https://localhost:8080/"
    },
    "id": "hFxE86A7vjg5",
    "outputId": "16a9d522-406a-4b97-f5fb-82ab6c5a86bb"
   },
   "outputs": [
    {
     "name": "stdout",
     "output_type": "stream",
     "text": [
      "<bound method Series.unique of 0      Sri Lanka\n",
      "1            USA\n",
      "2         Norway\n",
      "3      Sri Lanka\n",
      "4      Sri Lanka\n",
      "         ...    \n",
      "130    Sri Lanka\n",
      "131    Sri Lanka\n",
      "132    Sri Lanka\n",
      "133        Dubai\n",
      "134          USA\n",
      "Name: Country, Length: 135, dtype: object>\n"
     ]
    }
   ],
   "source": [
    "print(df['Country'].unique)"
   ]
  },
  {
   "cell_type": "code",
   "execution_count": 8,
   "metadata": {
    "colab": {
     "base_uri": "https://localhost:8080/"
    },
    "id": "Ggh0HHcbwJaD",
    "outputId": "7b609d14-d937-4c80-8c30-78b40eb1cc6e"
   },
   "outputs": [
    {
     "name": "stdout",
     "output_type": "stream",
     "text": [
      "Country\n",
      "Sri Lanka                 82\n",
      "india                      6\n",
      "singapore                  5\n",
      "usa                        5\n",
      "united kingdom             5\n",
      "netherland                 4\n",
      "australia                  3\n",
      "china                      3\n",
      "south korea                2\n",
      "sweden                     2\n",
      " United Arab Emirates      2\n",
      "japan                      2\n",
      "korea                      2\n",
      "norway                     2\n",
      "pakistan                   1\n",
      "canada                     1\n",
      "  United Arab Emirates     1\n",
      "france                     1\n",
      "italy                      1\n",
      "gibraltar                  1\n",
      "thailand                   1\n",
      "hong kong                  1\n",
      "england                    1\n",
      "seashells                  1\n",
      "Name: count, dtype: int64\n"
     ]
    }
   ],
   "source": [
    "# Clean up the 'Country' column to standardize all instances of 'Sri Lanka'\n",
    "df['Country'] = df['Country'].str.strip()  # Remove any leading/trailing spaces\n",
    "df['Country'] = df['Country'].str.lower()  # Convert all text to lowercase\n",
    "\n",
    "# Replace all variations of 'sri lanka' with the standard 'Sri Lanka'\n",
    "df['Country'] = df['Country'].replace({\n",
    "    'sri lanka': 'Sri Lanka',  # Standardize 'sri lanka' to 'Sri Lanka'\n",
    "    'srilanka': 'Sri Lanka',\n",
    "    'sri lanka ': 'Sri Lanka',  # In case there are extra spaces\n",
    "    'sri lanka/': 'Sri Lanka',\n",
    "    'sri lanka  ': 'Sri Lanka',\n",
    "    'sri  lanka': 'Sri Lanka',\n",
    "    'sri lanka?': 'Sri Lanka',\n",
    "    '2584/08/10/2002': 'Sri Lanka',\n",
    "    'united kindom' : 'united kingdom',\n",
    "    'united state of america' : 'usa',\n",
    "    'netherlands' : 'netherland',\n",
    "    'united sates' : 'usa',\n",
    "    'uk' : 'united kingdom',\n",
    "    'dubai' : ' United Arab Emirates',\n",
    "    'uae' : '',\n",
    "    'hong kong / china' : 'china',\n",
    "    \n",
    "}, regex=True)\n",
    "\n",
    "# After replacing, you can check the cleaned data\n",
    "print(df['Country'].value_counts())\n"
   ]
  },
  {
   "cell_type": "code",
   "execution_count": 9,
   "metadata": {},
   "outputs": [
    {
     "data": {
      "image/png": "[encoded data removed]",
      "text/plain": [
       "<Figure size 640x480 with 1 Axes>"
      ]
     },
     "metadata": {},
     "output_type": "display_data"
    }
   ],
   "source": [
    "sns.countplot(data=df, x='Country', color='skyblue')\n",
    "\n",
    "plt.title('Distribution of Country', fontsize=16)\n",
    "plt.xlabel('Country', fontsize=12)\n",
    "plt.ylabel('Frequency', fontsize=12)\n",
    "plt.xticks(rotation=90)  # Rotate x-axis labels if there are many countries\n",
    "plt.show()"
   ]
  },
  {
   "cell_type": "code",
   "execution_count": 10,
   "metadata": {
    "colab": {
     "base_uri": "https://localhost:8080/"
    },
    "id": "4_1bt36tolF5",
    "outputId": "3071f6f2-d633-47ab-c0c6-426dd74d4e91"
   },
   "outputs": [
    {
     "name": "stdout",
     "output_type": "stream",
     "text": [
      "Satisfaction\n",
      "80.0     20\n",
      "50.0     19\n",
      "90.0     19\n",
      "60.0     17\n",
      "75.0     13\n",
      "70.0     12\n",
      "100.0     9\n",
      "65.0      4\n",
      "95.0      4\n",
      "40.0      3\n",
      "85.0      2\n",
      "55.0      2\n",
      "45.0      1\n",
      "98.0      1\n",
      "99.0      1\n",
      "86.0      1\n",
      "51.0      1\n",
      "67.0      1\n",
      "88.0      1\n",
      "Name: count, dtype: int64\n"
     ]
    }
   ],
   "source": [
    "# Clean up the 'Country' column to standardize all instances of 'Sri Lanka'\n",
    "#df['Satisfaction'] = df['Satisfaction'].str.strip()  # Remove any leading/trailing spaces\n",
    "#df['Satisfaction'] = df['Satisfaction'].str.lower()  # Convert all text to lowercase\n",
    "\n",
    "# Replace all variations of 'sri lanka' with the standard 'Sri Lanka'\n",
    "df['Satisfaction'] = df['Satisfaction'].replace({\n",
    "    1: 100,  # Standardize 'sri lanka' to 'Sri Lanka'\n",
    "\n",
    "}, regex=True)\n",
    "\n",
    "# After replacing, you can check the cleaned data\n",
    "print(df['Satisfaction'].value_counts())\n"
   ]
  },
  {
   "cell_type": "code",
   "execution_count": 11,
   "metadata": {
    "colab": {
     "base_uri": "https://localhost:8080/",
     "height": 811
    },
    "id": "8lLH2DRC1az7",
    "outputId": "e1140cb2-0e2d-4e26-f711-35dffe526a94"
   },
   "outputs": [
    {
     "name": "stdout",
     "output_type": "stream",
     "text": [
      "                           Size of Investment  Size of Investment_encoded\n",
      "0  Medium (10 USD million to 100 USD million)                           1\n",
      "1            Small (Less than 10 USD million)                           2\n",
      "2            Small (Less than 10 USD million)                           2\n",
      "3  Medium (10 USD million to 100 USD million)                           1\n",
      "4            Small (Less than 10 USD million)                           2\n",
      "Label encoding mapping: {'Large (Above 100 USD million)': 0, 'Medium (10 USD million to 100 USD million)': 1, 'Small (Less than 10 USD million)': 2}\n"
     ]
    },
    {
     "data": {
      "text/html": [
       "<div>\n",
       "<style scoped>\n",
       "    .dataframe tbody tr th:only-of-type {\n",
       "        vertical-align: middle;\n",
       "    }\n",
       "\n",
       "    .dataframe tbody tr th {\n",
       "        vertical-align: top;\n",
       "    }\n",
       "\n",
       "    .dataframe thead th {\n",
       "        text-align: right;\n",
       "    }\n",
       "</style>\n",
       "<table border=\"1\" class=\"dataframe\">\n",
       "  <thead>\n",
       "    <tr style=\"text-align: right;\">\n",
       "      <th></th>\n",
       "      <th>Country</th>\n",
       "      <th>Type of Ownership</th>\n",
       "      <th>Industry Sector</th>\n",
       "      <th>Size of Investment</th>\n",
       "      <th>Investor Facilitation Center</th>\n",
       "      <th>Environment</th>\n",
       "      <th>Engineering</th>\n",
       "      <th>Investment approvals</th>\n",
       "      <th>External Line Agencies</th>\n",
       "      <th>Legal Activities</th>\n",
       "      <th>...</th>\n",
       "      <th>Zonal Infrastructure</th>\n",
       "      <th>Zonal Utility</th>\n",
       "      <th>Zonal Waste Management</th>\n",
       "      <th>Zonal Security &amp; Fire Facilities</th>\n",
       "      <th>Tax incentives to investors</th>\n",
       "      <th>Government Policies</th>\n",
       "      <th>Ease of doing business</th>\n",
       "      <th>Skilled labor</th>\n",
       "      <th>Satisfaction</th>\n",
       "      <th>Size of Investment_encoded</th>\n",
       "    </tr>\n",
       "  </thead>\n",
       "  <tbody>\n",
       "    <tr>\n",
       "      <th>0</th>\n",
       "      <td>Sri Lanka</td>\n",
       "      <td>Local Investor</td>\n",
       "      <td>Services</td>\n",
       "      <td>Medium (10 USD million to 100 USD million)</td>\n",
       "      <td>5</td>\n",
       "      <td>5</td>\n",
       "      <td>4</td>\n",
       "      <td>4</td>\n",
       "      <td>4</td>\n",
       "      <td>4</td>\n",
       "      <td>...</td>\n",
       "      <td>4.0</td>\n",
       "      <td>4.0</td>\n",
       "      <td>4.0</td>\n",
       "      <td>4.0</td>\n",
       "      <td>4</td>\n",
       "      <td>4</td>\n",
       "      <td>4</td>\n",
       "      <td>4</td>\n",
       "      <td>75.0</td>\n",
       "      <td>1</td>\n",
       "    </tr>\n",
       "    <tr>\n",
       "      <th>1</th>\n",
       "      <td>usa</td>\n",
       "      <td>Joint Venture</td>\n",
       "      <td>Services</td>\n",
       "      <td>Small (Less than 10 USD million)</td>\n",
       "      <td>3</td>\n",
       "      <td>4</td>\n",
       "      <td>3</td>\n",
       "      <td>3</td>\n",
       "      <td>3</td>\n",
       "      <td>3</td>\n",
       "      <td>...</td>\n",
       "      <td>3.0</td>\n",
       "      <td>3.0</td>\n",
       "      <td>3.0</td>\n",
       "      <td>3.0</td>\n",
       "      <td>3</td>\n",
       "      <td>3</td>\n",
       "      <td>3</td>\n",
       "      <td>3</td>\n",
       "      <td>70.0</td>\n",
       "      <td>2</td>\n",
       "    </tr>\n",
       "    <tr>\n",
       "      <th>2</th>\n",
       "      <td>norway</td>\n",
       "      <td>Foreign Investor</td>\n",
       "      <td>Manufacturing</td>\n",
       "      <td>Small (Less than 10 USD million)</td>\n",
       "      <td>3</td>\n",
       "      <td>3</td>\n",
       "      <td>3</td>\n",
       "      <td>3</td>\n",
       "      <td>3</td>\n",
       "      <td>3</td>\n",
       "      <td>...</td>\n",
       "      <td>3.0</td>\n",
       "      <td>3.0</td>\n",
       "      <td>3.0</td>\n",
       "      <td>4.0</td>\n",
       "      <td>3</td>\n",
       "      <td>3</td>\n",
       "      <td>3</td>\n",
       "      <td>3</td>\n",
       "      <td>70.0</td>\n",
       "      <td>2</td>\n",
       "    </tr>\n",
       "    <tr>\n",
       "      <th>3</th>\n",
       "      <td>Sri Lanka</td>\n",
       "      <td>Local Investor</td>\n",
       "      <td>Manufacturing</td>\n",
       "      <td>Medium (10 USD million to 100 USD million)</td>\n",
       "      <td>4</td>\n",
       "      <td>4</td>\n",
       "      <td>5</td>\n",
       "      <td>5</td>\n",
       "      <td>4</td>\n",
       "      <td>4</td>\n",
       "      <td>...</td>\n",
       "      <td>4.0</td>\n",
       "      <td>3.0</td>\n",
       "      <td>4.0</td>\n",
       "      <td>3.0</td>\n",
       "      <td>3</td>\n",
       "      <td>3</td>\n",
       "      <td>3</td>\n",
       "      <td>3</td>\n",
       "      <td>50.0</td>\n",
       "      <td>1</td>\n",
       "    </tr>\n",
       "    <tr>\n",
       "      <th>4</th>\n",
       "      <td>Sri Lanka</td>\n",
       "      <td>Local Investor</td>\n",
       "      <td>Manufacturing</td>\n",
       "      <td>Small (Less than 10 USD million)</td>\n",
       "      <td>3</td>\n",
       "      <td>3</td>\n",
       "      <td>3</td>\n",
       "      <td>4</td>\n",
       "      <td>4</td>\n",
       "      <td>3</td>\n",
       "      <td>...</td>\n",
       "      <td>3.0</td>\n",
       "      <td>3.0</td>\n",
       "      <td>3.0</td>\n",
       "      <td>3.0</td>\n",
       "      <td>3</td>\n",
       "      <td>3</td>\n",
       "      <td>3</td>\n",
       "      <td>3</td>\n",
       "      <td>45.0</td>\n",
       "      <td>2</td>\n",
       "    </tr>\n",
       "  </tbody>\n",
       "</table>\n",
       "<p>5 rows × 26 columns</p>\n",
       "</div>"
      ],
      "text/plain": [
       "     Country Type of Ownership Industry Sector  \\\n",
       "0  Sri Lanka    Local Investor        Services   \n",
       "1        usa     Joint Venture        Services   \n",
       "2     norway  Foreign Investor   Manufacturing   \n",
       "3  Sri Lanka    Local Investor   Manufacturing   \n",
       "4  Sri Lanka    Local Investor   Manufacturing   \n",
       "\n",
       "                           Size of Investment  Investor Facilitation Center  \\\n",
       "0  Medium (10 USD million to 100 USD million)                             5   \n",
       "1            Small (Less than 10 USD million)                             3   \n",
       "2            Small (Less than 10 USD million)                             3   \n",
       "3  Medium (10 USD million to 100 USD million)                             4   \n",
       "4            Small (Less than 10 USD million)                             3   \n",
       "\n",
       "   Environment  Engineering  Investment approvals  External Line Agencies  \\\n",
       "0            5            4                     4                       4   \n",
       "1            4            3                     3                       3   \n",
       "2            3            3                     3                       3   \n",
       "3            4            5                     5                       4   \n",
       "4            3            3                     4                       4   \n",
       "\n",
       "   Legal Activities  ...  Zonal Infrastructure  Zonal Utility  \\\n",
       "0                 4  ...                   4.0            4.0   \n",
       "1                 3  ...                   3.0            3.0   \n",
       "2                 3  ...                   3.0            3.0   \n",
       "3                 4  ...                   4.0            3.0   \n",
       "4                 3  ...                   3.0            3.0   \n",
       "\n",
       "   Zonal Waste Management  Zonal Security & Fire Facilities  \\\n",
       "0                     4.0                               4.0   \n",
       "1                     3.0                               3.0   \n",
       "2                     3.0                               4.0   \n",
       "3                     4.0                               3.0   \n",
       "4                     3.0                               3.0   \n",
       "\n",
       "   Tax incentives to investors  Government Policies  Ease of doing business  \\\n",
       "0                            4                    4                       4   \n",
       "1                            3                    3                       3   \n",
       "2                            3                    3                       3   \n",
       "3                            3                    3                       3   \n",
       "4                            3                    3                       3   \n",
       "\n",
       "   Skilled labor  Satisfaction  Size of Investment_encoded  \n",
       "0              4          75.0                           1  \n",
       "1              3          70.0                           2  \n",
       "2              3          70.0                           2  \n",
       "3              3          50.0                           1  \n",
       "4              3          45.0                           2  \n",
       "\n",
       "[5 rows x 26 columns]"
      ]
     },
     "execution_count": 11,
     "metadata": {},
     "output_type": "execute_result"
    }
   ],
   "source": [
    "# Initialize LabelEncoder\n",
    "label_encoder = LabelEncoder()\n",
    "\n",
    "# Fit and transform the 'Country' column\n",
    "df['Size of Investment_encoded'] = label_encoder.fit_transform(df['Size of Investment'])\n",
    "\n",
    "# Display the first few rows of the dataframe to check the encoded column\n",
    "print(df[['Size of Investment', 'Size of Investment_encoded']].head())\n",
    "\n",
    "# Optional: Print the mapping of labels to country names\n",
    "country_mapping = dict(zip(label_encoder.classes_, label_encoder.transform(label_encoder.classes_)))\n",
    "print(\"Label encoding mapping:\", country_mapping)\n",
    "df.head()"
   ]
  },
  {
   "cell_type": "code",
   "execution_count": 12,
   "metadata": {
    "colab": {
     "base_uri": "https://localhost:8080/",
     "height": 87
    },
    "id": "OF5Uw_R4SDhl",
    "outputId": "d33605a0-5b07-4560-96c1-c719cb8afe7b"
   },
   "outputs": [],
   "source": [
    "from sklearn.impute import KNNImputer\n",
    "\n",
    "# Initialize KNNImputer\n",
    "imputer = KNNImputer(n_neighbors=5)\n",
    "\n",
    "# Apply KNN imputation on the entire dataframe\n",
    "df[['Satisfaction']] = imputer.fit_transform(df[['Satisfaction']])\n",
    "\n"
   ]
  },
  {
   "cell_type": "code",
   "execution_count": 13,
   "metadata": {},
   "outputs": [
    {
     "name": "stdout",
     "output_type": "stream",
     "text": [
      "                   Country Type of Ownership     Industry Sector  \\\n",
      "0                Sri Lanka    Local Investor            Services   \n",
      "1                      usa     Joint Venture            Services   \n",
      "2                   norway  Foreign Investor       Manufacturing   \n",
      "3                Sri Lanka    Local Investor       Manufacturing   \n",
      "4                Sri Lanka    Local Investor       Manufacturing   \n",
      "..                     ...               ...                 ...   \n",
      "130              Sri Lanka    Local Investor            Services   \n",
      "131              Sri Lanka    Local Investor            Services   \n",
      "132              Sri Lanka    Local Investor  Knowledge Services   \n",
      "133   United Arab Emirates  Foreign Investor  Knowledge Services   \n",
      "134                    usa  Foreign Investor       Manufacturing   \n",
      "\n",
      "                             Size of Investment  Investor Facilitation Center  \\\n",
      "0    Medium (10 USD million to 100 USD million)                           5.0   \n",
      "1              Small (Less than 10 USD million)                           3.0   \n",
      "2              Small (Less than 10 USD million)                           3.0   \n",
      "3    Medium (10 USD million to 100 USD million)                           4.0   \n",
      "4              Small (Less than 10 USD million)                           3.0   \n",
      "..                                          ...                           ...   \n",
      "130            Small (Less than 10 USD million)                           5.0   \n",
      "131            Small (Less than 10 USD million)                           5.0   \n",
      "132            Small (Less than 10 USD million)                           4.0   \n",
      "133            Small (Less than 10 USD million)                           4.0   \n",
      "134            Small (Less than 10 USD million)                           3.0   \n",
      "\n",
      "     Environment  Engineering  Investment approvals  External Line Agencies  \\\n",
      "0            5.0          4.0                   4.0                     4.0   \n",
      "1            4.0          3.0                   3.0                     3.0   \n",
      "2            3.0          3.0                   3.0                     3.0   \n",
      "3            4.0          5.0                   5.0                     4.0   \n",
      "4            3.0          3.0                   4.0                     4.0   \n",
      "..           ...          ...                   ...                     ...   \n",
      "130          5.0          5.0                   5.0                     5.0   \n",
      "131          5.0          5.0                   5.0                     5.0   \n",
      "132          4.0          4.0                   4.0                     4.0   \n",
      "133          3.0          3.0                   4.0                     3.0   \n",
      "134          3.0          3.0                   3.0                     3.0   \n",
      "\n",
      "     Legal Activities  ...  Zonal Infrastructure  Zonal Utility  \\\n",
      "0                 4.0  ...                   4.0            4.0   \n",
      "1                 3.0  ...                   3.0            3.0   \n",
      "2                 3.0  ...                   3.0            3.0   \n",
      "3                 4.0  ...                   4.0            3.0   \n",
      "4                 3.0  ...                   3.0            3.0   \n",
      "..                ...  ...                   ...            ...   \n",
      "130               5.0  ...                   5.0            5.0   \n",
      "131               5.0  ...                   5.0            5.0   \n",
      "132               4.0  ...                   3.8            4.0   \n",
      "133               3.0  ...                   3.0            3.2   \n",
      "134               3.0  ...                   3.0            3.0   \n",
      "\n",
      "     Zonal Waste Management  Zonal Security & Fire Facilities  \\\n",
      "0                       4.0                               4.0   \n",
      "1                       3.0                               3.0   \n",
      "2                       3.0                               4.0   \n",
      "3                       4.0                               3.0   \n",
      "4                       3.0                               3.0   \n",
      "..                      ...                               ...   \n",
      "130                     5.0                               5.0   \n",
      "131                     5.0                               5.0   \n",
      "132                     4.0                               3.8   \n",
      "133                     3.0                               3.0   \n",
      "134                     3.0                               3.0   \n",
      "\n",
      "     Tax incentives to investors  Government Policies  Ease of doing business  \\\n",
      "0                            4.0                  4.0                     4.0   \n",
      "1                            3.0                  3.0                     3.0   \n",
      "2                            3.0                  3.0                     3.0   \n",
      "3                            3.0                  3.0                     3.0   \n",
      "4                            3.0                  3.0                     3.0   \n",
      "..                           ...                  ...                     ...   \n",
      "130                          5.0                  5.0                     3.0   \n",
      "131                          5.0                  5.0                     3.0   \n",
      "132                          4.0                  4.0                     4.0   \n",
      "133                          4.0                  4.0                     3.0   \n",
      "134                          4.0                  3.0                     3.0   \n",
      "\n",
      "     Skilled labor  Satisfaction  Size of Investment_encoded  \n",
      "0              4.0          75.0                         1.0  \n",
      "1              3.0          70.0                         2.0  \n",
      "2              3.0          70.0                         2.0  \n",
      "3              3.0          50.0                         1.0  \n",
      "4              3.0          45.0                         2.0  \n",
      "..             ...           ...                         ...  \n",
      "130            3.0          80.0                         2.0  \n",
      "131            3.0          80.0                         2.0  \n",
      "132            4.0          80.0                         2.0  \n",
      "133            4.0          75.0                         2.0  \n",
      "134            4.0          60.0                         2.0  \n",
      "\n",
      "[135 rows x 26 columns]\n"
     ]
    }
   ],
   "source": [
    "df.replace([np.inf, -np.inf], np.nan, inplace=True)\n",
    "\n",
    "# Separate numerical and categorical columns\n",
    "num_cols = df.select_dtypes(include=[np.number]).columns  # Select only numeric columns\n",
    "\n",
    "# Initialize KNN Imputer\n",
    "imputer = KNNImputer(n_neighbors=5)\n",
    "\n",
    "# Apply imputer to numerical columns only\n",
    "df[num_cols] = imputer.fit_transform(df[num_cols])\n",
    "\n",
    "print(df)"
   ]
  },
  {
   "cell_type": "code",
   "execution_count": 14,
   "metadata": {},
   "outputs": [
    {
     "name": "stdout",
     "output_type": "stream",
     "text": [
      "                   Country Type of Ownership     Industry Sector  \\\n",
      "0                Sri Lanka    Local Investor            Services   \n",
      "1                      usa     Joint Venture            Services   \n",
      "2                   norway  Foreign Investor       Manufacturing   \n",
      "3                Sri Lanka    Local Investor       Manufacturing   \n",
      "4                Sri Lanka    Local Investor       Manufacturing   \n",
      "..                     ...               ...                 ...   \n",
      "130              Sri Lanka    Local Investor            Services   \n",
      "131              Sri Lanka    Local Investor            Services   \n",
      "132              Sri Lanka    Local Investor  Knowledge Services   \n",
      "133   United Arab Emirates  Foreign Investor  Knowledge Services   \n",
      "134                    usa  Foreign Investor       Manufacturing   \n",
      "\n",
      "                             Size of Investment  Investor Facilitation Center  \\\n",
      "0    Medium (10 USD million to 100 USD million)                             5   \n",
      "1              Small (Less than 10 USD million)                             3   \n",
      "2              Small (Less than 10 USD million)                             3   \n",
      "3    Medium (10 USD million to 100 USD million)                             4   \n",
      "4              Small (Less than 10 USD million)                             3   \n",
      "..                                          ...                           ...   \n",
      "130            Small (Less than 10 USD million)                             5   \n",
      "131            Small (Less than 10 USD million)                             5   \n",
      "132            Small (Less than 10 USD million)                             4   \n",
      "133            Small (Less than 10 USD million)                             4   \n",
      "134            Small (Less than 10 USD million)                             3   \n",
      "\n",
      "     Environment  Engineering  Investment approvals  External Line Agencies  \\\n",
      "0              5            4                     4                       4   \n",
      "1              4            3                     3                       3   \n",
      "2              3            3                     3                       3   \n",
      "3              4            5                     5                       4   \n",
      "4              3            3                     4                       4   \n",
      "..           ...          ...                   ...                     ...   \n",
      "130            5            5                     5                       5   \n",
      "131            5            5                     5                       5   \n",
      "132            4            4                     4                       4   \n",
      "133            3            3                     4                       3   \n",
      "134            3            3                     3                       3   \n",
      "\n",
      "     Legal Activities  ...  Zonal Infrastructure  Zonal Utility  \\\n",
      "0                   4  ...                     4              4   \n",
      "1                   3  ...                     3              3   \n",
      "2                   3  ...                     3              3   \n",
      "3                   4  ...                     4              3   \n",
      "4                   3  ...                     3              3   \n",
      "..                ...  ...                   ...            ...   \n",
      "130                 5  ...                     5              5   \n",
      "131                 5  ...                     5              5   \n",
      "132                 4  ...                     3              4   \n",
      "133                 3  ...                     3              3   \n",
      "134                 3  ...                     3              3   \n",
      "\n",
      "     Zonal Waste Management  Zonal Security & Fire Facilities  \\\n",
      "0                         4                                 4   \n",
      "1                         3                                 3   \n",
      "2                         3                                 4   \n",
      "3                         4                                 3   \n",
      "4                         3                                 3   \n",
      "..                      ...                               ...   \n",
      "130                       5                                 5   \n",
      "131                       5                                 5   \n",
      "132                       4                                 3   \n",
      "133                       3                                 3   \n",
      "134                       3                                 3   \n",
      "\n",
      "     Tax incentives to investors  Government Policies  Ease of doing business  \\\n",
      "0                              4                    4                       4   \n",
      "1                              3                    3                       3   \n",
      "2                              3                    3                       3   \n",
      "3                              3                    3                       3   \n",
      "4                              3                    3                       3   \n",
      "..                           ...                  ...                     ...   \n",
      "130                            5                    5                       3   \n",
      "131                            5                    5                       3   \n",
      "132                            4                    4                       4   \n",
      "133                            4                    4                       3   \n",
      "134                            4                    3                       3   \n",
      "\n",
      "     Skilled labor  Satisfaction  Size of Investment_encoded  \n",
      "0                4            75                           1  \n",
      "1                3            70                           2  \n",
      "2                3            70                           2  \n",
      "3                3            50                           1  \n",
      "4                3            45                           2  \n",
      "..             ...           ...                         ...  \n",
      "130              3            80                           2  \n",
      "131              3            80                           2  \n",
      "132              4            80                           2  \n",
      "133              4            75                           2  \n",
      "134              4            60                           2  \n",
      "\n",
      "[135 rows x 26 columns]\n"
     ]
    }
   ],
   "source": [
    "df[df.select_dtypes(include=['float']).columns] = df.select_dtypes(include=['float']).astype(int)\n",
    "\n",
    "print(df)"
   ]
  },
  {
   "cell_type": "code",
   "execution_count": 15,
   "metadata": {},
   "outputs": [
    {
     "name": "stdout",
     "output_type": "stream",
     "text": [
      "Plots saved successfully!\n"
     ]
    }
   ],
   "source": [
    "import seaborn as sns\n",
    "import matplotlib.pyplot as plt\n",
    "import os\n",
    "\n",
    "# Define save location\n",
    "save_dir = r\"C:\\Users\\DELL\\Desktop\\Research project\\plots2\"\n",
    "\n",
    "# Ensure the directory exists\n",
    "os.makedirs(save_dir, exist_ok=True)\n",
    "\n",
    "ordinal_vars = [\n",
    "    'Investor Facilitation Center', 'Environment', 'Engineering',\n",
    "    'Investment approvals', 'External Line Agencies', 'Legal Activities',\n",
    "    'Implementation Period', 'Issuing Tax Certificate', 'Import & Export',\n",
    "    'Industrial Relations', 'Research and Policy', 'IT',\n",
    "    'Zonal Infrastructure', 'Zonal Utility', 'Zonal Waste Management',\n",
    "    'Zonal Security & Fire Facilities', 'Tax incentives to investors',\n",
    "    'Government Policies', 'Ease of doing business', 'Skilled labor'\n",
    "]\n",
    "\n",
    "for var in ordinal_vars:\n",
    "    plt.figure(figsize=(8, 4))\n",
    "    sns.boxplot(x=df[var], y=df['Satisfaction'])\n",
    "    plt.xlabel(var)\n",
    "    plt.ylabel(\"Satisfaction\")\n",
    "    plt.title(f\"Satisfaction vs {var}\")\n",
    "    plt.xticks(rotation=45)  # Rotate labels if needed\n",
    "    \n",
    "    # Save the plot\n",
    "    save_path = os.path.join(save_dir, f\"{var}_boxplot.png\")\n",
    "    plt.savefig(save_path, dpi=300, bbox_inches='tight')\n",
    "\n",
    "    # Close the figure to free memory\n",
    "    plt.close()\n",
    "\n",
    "print(\"Plots saved successfully!\")  \n"
   ]
  },
  {
   "cell_type": "code",
   "execution_count": 15,
   "metadata": {},
   "outputs": [
    {
     "data": {
      "image/png": "[encoded data removed]",
      "text/plain": [
       "<Figure size 640x480 with 1 Axes>"
      ]
     },
     "metadata": {},
     "output_type": "display_data"
    }
   ],
   "source": [
    "sns.countplot(data=df, x='Industry Sector', color='skyblue')\n",
    "\n",
    "plt.title('Distribution of Industry Sector', fontsize=16)\n",
    "plt.xlabel('Industry Sector', fontsize=12)\n",
    "plt.ylabel('Frequency', fontsize=12)\n",
    "plt.xticks(rotation=90)  # Rotate x-axis labels if there are many countries\n",
    "plt.show()"
   ]
  },
  {
   "cell_type": "code",
   "execution_count": 16,
   "metadata": {},
   "outputs": [
    {
     "data": {
      "image/png": "[encoded data removed]",
      "text/plain": [
       "<Figure size 640x480 with 1 Axes>"
      ]
     },
     "metadata": {},
     "output_type": "display_data"
    }
   ],
   "source": [
    "sns.countplot(data=df, x='Type of Ownership', color='skyblue')\n",
    "\n",
    "plt.title('Distribution of Type of Ownership', fontsize=16)\n",
    "plt.xlabel('Type of Ownership', fontsize=12)\n",
    "plt.ylabel('Frequency', fontsize=12)\n",
    "plt.xticks(rotation=90)  # Rotate x-axis labels if there are many countries\n",
    "plt.show()"
   ]
  },
  {
   "cell_type": "code",
   "execution_count": 17,
   "metadata": {},
   "outputs": [
    {
     "data": {
      "image/png": "[encoded data removed]",
      "text/plain": [
       "<Figure size 640x480 with 1 Axes>"
      ]
     },
     "metadata": {},
     "output_type": "display_data"
    }
   ],
   "source": [
    "\n",
    "sns.countplot(data=df, x='Size of Investment', color='skyblue')\n",
    "\n",
    "plt.title('Distribution of Size of Investment', fontsize=16)\n",
    "plt.xlabel('Size of Investment', fontsize=12)\n",
    "plt.ylabel('Frequency', fontsize=12)\n",
    "plt.xticks(rotation=90)  # Rotate x-axis labels if there are many countries\n",
    "plt.show()"
   ]
  },
  {
   "cell_type": "code",
   "execution_count": 282,
   "metadata": {
    "colab": {
     "base_uri": "https://localhost:8080/",
     "height": 429
    },
    "id": "b551mRlVk6WS",
    "outputId": "d2e5c624-e07e-47c8-dbc5-61e156b71d36"
   },
   "outputs": [],
   "source": [
    "import pandas as pd\n",
    "import numpy as np\n",
    "from scipy import stats\n",
    "\n",
    "# Function to check normality for each group using Shapiro-Wilk test\n",
    "def check_normality(df, group_col, value_col):\n",
    "    # Group the data by the group column\n",
    "    grouped_data = df.groupby(group_col)[value_col].apply(list)\n",
    "    \n",
    "    normality_results = {}\n",
    "    for group, values in grouped_data.items():\n",
    "        # Shapiro-Wilk test for normality\n",
    "        stat, p_value = stats.shapiro(values)\n",
    "        normality_results[group] = {'Shapiro-Wilk Stat': stat, 'p-value': p_value}\n",
    "        \n",
    "        if p_value > 0.05:\n",
    "            normality_results[group]['Normality'] = 'Normal'\n",
    "        else:\n",
    "            normality_results[group]['Normality'] = 'Not Normal'\n",
    "    \n",
    "    return normality_results\n",
    "\n",
    "import pandas as pd\n",
    "import scipy.stats as stats\n",
    "\n",
    "def check_normality_with_encoding(df, categorical_col, numerical_col):\n",
    "    # One-hot encoding for categorical variable\n",
    "    df_encoded = pd.get_dummies(df, columns=[categorical_col], dtype=int)\n",
    "\n",
    "    normality_results = {}\n",
    "\n",
    "    for col in df_encoded.columns:\n",
    "        if col.startswith(categorical_col + \"_\"):  # Only check one-hot encoded columns\n",
    "            values = df[numerical_col][df_encoded[col] == 1]  # Select corresponding rows\n",
    "            \n",
    "            if len(values) > 3:  # Shapiro-Wilk needs at least 3 values\n",
    "                stat, p_value = stats.shapiro(values)\n",
    "                normality_results[col] = {'Shapiro-Wilk Stat': stat, 'p-value': p_value}\n",
    "                \n",
    "                normality_results[col]['Normality'] = 'Normal' if p_value > 0.05 else 'Not Normal'\n",
    "    \n",
    "    return normality_results\n",
    "\n",
    "\n",
    "\n",
    "# Function to check if the distributions are the same across groups (using ANOVA or Kruskal-Wallis)\n",
    "import pandas as pd\n",
    "import numpy as np\n",
    "from scipy import stats\n",
    "\n",
    "def perform_anova(df, group_col, value_col):\n",
    "    # Group the data by the group column and extract values\n",
    "    grouped_data = df.groupby(group_col)[value_col].apply(list)\n",
    "    values_list = [values for group, values in grouped_data.items()]\n",
    "\n",
    "    # Perform ANOVA test (F-statistic and p-value)\n",
    "    f_stat, p_value = stats.f_oneway(*values_list)\n",
    "\n",
    "    # Return the results\n",
    "    return {'ANOVA F-statistic': f_stat, 'p-value': p_value}\n",
    "\n",
    "\n",
    "def perform_kruskal_wallis(df, group_col, value_col):\n",
    "    # Group the data by the group column and extract values\n",
    "    grouped_data = df.groupby(group_col)[value_col].apply(list)\n",
    "    \n",
    "    # Check if there are any groups with less than 2 data points\n",
    "    for group, values in grouped_data.items():\n",
    "        if len(values) < 2:\n",
    "            return {'Error': f\"Group '{group}' has less than 2 data points. Kruskal-Wallis test cannot be performed.\"}\n",
    "\n",
    "    # Check for NaN or infinite values in the value column\n",
    "    if df[value_col].isna().sum() > 0 or (df[value_col] == float('inf')).sum() > 0 or (df[value_col] == float('-inf')).sum() > 0:\n",
    "        return {'Error': 'The value column contains NaN or infinite values. Please clean the data before performing the test.'}\n",
    "\n",
    "    # Create the list of values for Kruskal-Wallis test\n",
    "    values_list = [values for group, values in grouped_data.items()]\n",
    "\n",
    "    # Perform Kruskal-Wallis test (H-statistic and p-value)\n",
    "    h_stat, p_value = stats.kruskal(*values_list)\n",
    "\n",
    "    # Determine if the p-value is statistically significant\n",
    "    if p_value < 0.20:\n",
    "        significance = \"statistically significant\"\n",
    "    else:\n",
    "        significance = \"not statistically significant\"\n",
    "\n",
    "    # Return the results\n",
    "    return {\n",
    "        'Kruskal-Wallis H-statistic': h_stat,\n",
    "        'p-value': p_value,\n",
    "        'Significance': significance\n",
    "    }\n",
    "\n",
    "\n",
    "import pandas as pd\n",
    "import scipy.stats as stats\n",
    "\n",
    "def kruskal_wallis_with_encoding(df, categorical_col, numerical_col):\n",
    "    # One-hot encoding for categorical variable\n",
    "    df_encoded = pd.get_dummies(df, columns=[categorical_col], dtype=int)\n",
    "\n",
    "    kw_results = {}\n",
    "\n",
    "    groups = []  # List to store numerical values for each category\n",
    "\n",
    "    for col in df_encoded.columns:\n",
    "        if col.startswith(categorical_col + \"_\"):  # Only check one-hot encoded columns\n",
    "            values = df[numerical_col][df_encoded[col] == 1]  # Select corresponding rows\n",
    "            \n",
    "            if len(values) > 3:  # Kruskal-Wallis needs at least 3 values per group\n",
    "                groups.append(values)\n",
    "    \n",
    "    if len(groups) > 1:  # Kruskal-Wallis requires at least 2 groups\n",
    "        stat, p_value = stats.kruskal(*groups)\n",
    "        kw_results['Kruskal-Wallis Stat'] = stat\n",
    "        kw_results['p-value'] = p_value\n",
    "        kw_results['Significant'] = 'Yes' if p_value < 0.20 else 'No'\n",
    "    else:\n",
    "        kw_results['Error'] = 'Not enough groups with sufficient data for Kruskal-Wallis test'\n",
    "\n",
    "    return kw_results\n"
   ]
  },
  {
   "cell_type": "code",
   "execution_count": 283,
   "metadata": {},
   "outputs": [
    {
     "name": "stdout",
     "output_type": "stream",
     "text": [
      "Normality Test Results:\n",
      "{'Type of Ownership_Foreign Investor': {'Shapiro-Wilk Stat': 0.9336002469062805, 'p-value': 0.011371554806828499, 'Normality': 'Not Normal'}, 'Type of Ownership_Joint Venture': {'Shapiro-Wilk Stat': 0.9383651614189148, 'p-value': 0.29930970072746277, 'Normality': 'Normal'}, 'Type of Ownership_Local Investor': {'Shapiro-Wilk Stat': 0.9472974538803101, 'p-value': 0.004486999474465847, 'Normality': 'Not Normal'}}\n"
     ]
    }
   ],
   "source": [
    "# Call the function with correct column names as strings\n",
    "\n",
    "normality = check_normality_with_encoding( df,'Type of Ownership','Satisfaction')\n",
    "\n",
    "# Display the results\n",
    "print(\"Normality Test Results:\")\n",
    "print(normality)\n",
    "\n"
   ]
  },
  {
   "cell_type": "code",
   "execution_count": 284,
   "metadata": {},
   "outputs": [
    {
     "name": "stdout",
     "output_type": "stream",
     "text": [
      "Kruskal-Wallis Test Result: {'Kruskal-Wallis Stat': 1.1563467153410667, 'p-value': 0.5609220352756356, 'Significant': 'No'}\n"
     ]
    }
   ],
   "source": [
    "kruskal_result = kruskal_wallis_with_encoding(df, 'Type of Ownership', 'Satisfaction')\n",
    "\n",
    "# Output the result\n",
    "print(\"Kruskal-Wallis Test Result:\", kruskal_result)\n"
   ]
  },
  {
   "cell_type": "code",
   "execution_count": 285,
   "metadata": {},
   "outputs": [
    {
     "name": "stdout",
     "output_type": "stream",
     "text": [
      "Normality Test Results:\n",
      "{'Industry Sector_Agriculture': {'Shapiro-Wilk Stat': 0.8942227363586426, 'p-value': 0.29742226004600525, 'Normality': 'Normal'}, 'Industry Sector_Apparel': {'Shapiro-Wilk Stat': 0.8857088685035706, 'p-value': 0.009082530625164509, 'Normality': 'Not Normal'}, 'Industry Sector_Knowledge Services': {'Shapiro-Wilk Stat': 0.728634238243103, 'p-value': 0.02385682798922062, 'Normality': 'Not Normal'}, 'Industry Sector_Manufacturing': {'Shapiro-Wilk Stat': 0.9448713660240173, 'p-value': 0.009000188671052456, 'Normality': 'Not Normal'}, 'Industry Sector_Services': {'Shapiro-Wilk Stat': 0.9593930244445801, 'p-value': 0.47710731625556946, 'Normality': 'Normal'}, 'Industry Sector_Tourism & Leisure': {'Shapiro-Wilk Stat': 0.9433265328407288, 'p-value': 0.5423291325569153, 'Normality': 'Normal'}, 'Industry Sector_Utilities': {'Shapiro-Wilk Stat': 0.8362391591072083, 'p-value': 0.15479186177253723, 'Normality': 'Normal'}}\n"
     ]
    }
   ],
   "source": [
    "\n",
    "#Data must be at least length 3. there fore check normality by\n",
    "normality = check_normality_with_encoding(df, 'Industry Sector', 'Satisfaction')\n",
    "\n",
    "# Display the results\n",
    "print(\"Normality Test Results:\")\n",
    "print(normality)"
   ]
  },
  {
   "cell_type": "code",
   "execution_count": 286,
   "metadata": {},
   "outputs": [
    {
     "name": "stdout",
     "output_type": "stream",
     "text": [
      "Kruskal-Wallis Test Result: {'Kruskal-Wallis Stat': 3.13093219629912, 'p-value': 0.7922431953263548, 'Significant': 'No'}\n"
     ]
    }
   ],
   "source": [
    "kruskal_result = kruskal_wallis_with_encoding(df, 'Industry Sector', 'Satisfaction')\n",
    "\n",
    "# Output the result\n",
    "print(\"Kruskal-Wallis Test Result:\", kruskal_result)"
   ]
  },
  {
   "cell_type": "code",
   "execution_count": 287,
   "metadata": {},
   "outputs": [
    {
     "name": "stdout",
     "output_type": "stream",
     "text": [
      "Normality Test Results:\n",
      "{'Large (Above 100 USD million)': {'Shapiro-Wilk Stat': 0.894454300403595, 'p-value': 0.37999773025512695, 'Normality': 'Normal'}, 'Medium (10 USD million to 100 USD million)': {'Shapiro-Wilk Stat': 0.9503769278526306, 'p-value': 0.05682772397994995, 'Normality': 'Normal'}, 'Small (Less than 10 USD million)': {'Shapiro-Wilk Stat': 0.9485112428665161, 'p-value': 0.0018166352529078722, 'Normality': 'Not Normal'}}\n"
     ]
    }
   ],
   "source": [
    "normality = check_normality(df, 'Size of Investment', 'Satisfaction')\n",
    "\n",
    "# Display the results\n",
    "print(\"Normality Test Results:\")\n",
    "print(normality)"
   ]
  },
  {
   "cell_type": "code",
   "execution_count": 288,
   "metadata": {},
   "outputs": [
    {
     "name": "stdout",
     "output_type": "stream",
     "text": [
      "Kruskal-Wallis Test Result: {'Kruskal-Wallis H-statistic': 1.680089624771554, 'p-value': 0.431691177884023, 'Significance': 'not statistically significant'}\n"
     ]
    }
   ],
   "source": [
    "kruskal_result = perform_kruskal_wallis(df, 'Size of Investment_encoded', 'Satisfaction')\n",
    "\n",
    "# Output the result\n",
    "print(\"Kruskal-Wallis Test Result:\", kruskal_result)"
   ]
  },
  {
   "cell_type": "code",
   "execution_count": 289,
   "metadata": {},
   "outputs": [
    {
     "name": "stdout",
     "output_type": "stream",
     "text": [
      "Normality Test Results:\n",
      "{'Country_Sri Lanka': {'Shapiro-Wilk Stat': 0.9557144641876221, 'p-value': 0.006497839465737343, 'Normality': 'Not Normal'}, 'Country_india': {'Shapiro-Wilk Stat': 0.9556125998497009, 'p-value': 0.7853703498840332, 'Normality': 'Normal'}, 'Country_netherland': {'Shapiro-Wilk Stat': 0.9786528944969177, 'p-value': 0.8940738439559937, 'Normality': 'Normal'}, 'Country_singapore': {'Shapiro-Wilk Stat': 0.8822141885757446, 'p-value': 0.3194655179977417, 'Normality': 'Normal'}, 'Country_united kingdom': {'Shapiro-Wilk Stat': 0.8015674352645874, 'p-value': 0.08344810456037521, 'Normality': 'Normal'}, 'Country_usa': {'Shapiro-Wilk Stat': 0.8939244747161865, 'p-value': 0.3772224485874176, 'Normality': 'Normal'}}\n"
     ]
    }
   ],
   "source": [
    "#Data must be at least length 3. there fore check normality by\n",
    "normality = check_normality_with_encoding(df, 'Country', 'Satisfaction')\n",
    "\n",
    "# Display the results\n",
    "print(\"Normality Test Results:\")\n",
    "print(normality)"
   ]
  },
  {
   "cell_type": "code",
   "execution_count": 290,
   "metadata": {},
   "outputs": [
    {
     "name": "stdout",
     "output_type": "stream",
     "text": [
      "Kruskal-Wallis Test Result: {'Kruskal-Wallis Stat': 2.437396942695371, 'p-value': 0.7858922767598588, 'Significant': 'No'}\n"
     ]
    }
   ],
   "source": [
    "kruskal_result = kruskal_wallis_with_encoding(df, 'Country', 'Satisfaction')\n",
    "\n",
    "# Output the result\n",
    "print(\"Kruskal-Wallis Test Result:\", kruskal_result)"
   ]
  },
  {
   "cell_type": "code",
   "execution_count": 291,
   "metadata": {},
   "outputs": [
    {
     "name": "stdout",
     "output_type": "stream",
     "text": [
      "Shapiro-Wilk test p-value: 0.00011182179878233\n",
      "❌ Numerical variable is NOT normally distributed.\n"
     ]
    }
   ],
   "source": [
    "from scipy.stats import shapiro\n",
    "\n",
    "stat, p = shapiro(df['Satisfaction'])\n",
    "print(f\"Shapiro-Wilk test p-value: {p}\")\n",
    "\n",
    "if p > 0.05:\n",
    "    print(\"✅ Numerical variable is normally distributed.\")\n",
    "else:\n",
    "    print(\"❌ Numerical variable is NOT normally distributed.\")\n"
   ]
  },
  {
   "cell_type": "code",
   "execution_count": 292,
   "metadata": {},
   "outputs": [
    {
     "name": "stdout",
     "output_type": "stream",
     "text": [
      "Kruskal-Wallis Test Result: {'Kruskal-Wallis H-statistic': 30.454777453731126, 'p-value': 2.436851711720649e-07, 'Significance': 'statistically significant'}\n"
     ]
    }
   ],
   "source": [
    "kruskal_result = perform_kruskal_wallis(df, 'Investor Facilitation Center', 'Satisfaction')\n",
    "\n",
    "# Output the result\n",
    "print(\"Kruskal-Wallis Test Result:\", kruskal_result)"
   ]
  },
  {
   "cell_type": "code",
   "execution_count": 293,
   "metadata": {},
   "outputs": [
    {
     "name": "stdout",
     "output_type": "stream",
     "text": [
      "Normality Test Results:\n",
      "{3: {'Shapiro-Wilk Stat': 0.9463413953781128, 'p-value': 0.08747478574514389, 'Normality': 'Normal'}, 4: {'Shapiro-Wilk Stat': 0.9191848039627075, 'p-value': 0.0024755015037953854, 'Normality': 'Not Normal'}, 5: {'Shapiro-Wilk Stat': 0.8997005820274353, 'p-value': 0.0004110063018742949, 'Normality': 'Not Normal'}}\n"
     ]
    }
   ],
   "source": [
    "normality = check_normality(df, 'Environment', 'Satisfaction')\n",
    "\n",
    "# Display the results\n",
    "print(\"Normality Test Results:\")\n",
    "print(normality)"
   ]
  },
  {
   "cell_type": "code",
   "execution_count": 294,
   "metadata": {},
   "outputs": [
    {
     "name": "stdout",
     "output_type": "stream",
     "text": [
      "Kruskal-Wallis Test Result: {'Kruskal-Wallis H-statistic': 29.929426145668288, 'p-value': 3.1688938320878416e-07, 'Significance': 'statistically significant'}\n"
     ]
    }
   ],
   "source": [
    "kruskal_result = perform_kruskal_wallis(df, 'Environment', 'Satisfaction')\n",
    "\n",
    "# Output the result\n",
    "print(\"Kruskal-Wallis Test Result:\", kruskal_result)"
   ]
  },
  {
   "cell_type": "code",
   "execution_count": 295,
   "metadata": {},
   "outputs": [
    {
     "name": "stdout",
     "output_type": "stream",
     "text": [
      "Normality Test Results:\n",
      "{3: {'Shapiro-Wilk Stat': 0.9568514227867126, 'p-value': 0.13060139119625092, 'Normality': 'Normal'}, 4: {'Shapiro-Wilk Stat': 0.94073486328125, 'p-value': 0.011997135356068611, 'Normality': 'Not Normal'}, 5: {'Shapiro-Wilk Stat': 0.8582587242126465, 'p-value': 8.482366683892906e-05, 'Normality': 'Not Normal'}}\n"
     ]
    }
   ],
   "source": [
    "normality = check_normality(df, 'Engineering', 'Satisfaction')\n",
    "\n",
    "# Display the results\n",
    "print(\"Normality Test Results:\")\n",
    "print(normality)"
   ]
  },
  {
   "cell_type": "code",
   "execution_count": 296,
   "metadata": {},
   "outputs": [
    {
     "name": "stdout",
     "output_type": "stream",
     "text": [
      "Kruskal-Wallis Test Result: {'Kruskal-Wallis H-statistic': 33.67883072879023, 'p-value': 4.86110306155452e-08, 'Significance': 'statistically significant'}\n"
     ]
    }
   ],
   "source": [
    "kruskal_result = perform_kruskal_wallis(df, 'Engineering', 'Satisfaction')\n",
    "\n",
    "# Output the result\n",
    "print(\"Kruskal-Wallis Test Result:\", kruskal_result)"
   ]
  },
  {
   "cell_type": "code",
   "execution_count": 297,
   "metadata": {},
   "outputs": [
    {
     "name": "stdout",
     "output_type": "stream",
     "text": [
      "Kruskal-Wallis Test Result: {'Kruskal-Wallis H-statistic': 37.08848676775672, 'p-value': 8.837662804557937e-09, 'Significance': 'statistically significant'}\n"
     ]
    }
   ],
   "source": [
    "kruskal_result = perform_kruskal_wallis(df, 'Investment approvals', 'Satisfaction')\n",
    "\n",
    "# Output the result\n",
    "print(\"Kruskal-Wallis Test Result:\", kruskal_result)"
   ]
  },
  {
   "cell_type": "code",
   "execution_count": 298,
   "metadata": {},
   "outputs": [
    {
     "name": "stdout",
     "output_type": "stream",
     "text": [
      "Kruskal-Wallis Test Result: {'Kruskal-Wallis H-statistic': 43.086575634027064, 'p-value': 4.404219738950614e-10, 'Significance': 'statistically significant'}\n"
     ]
    }
   ],
   "source": [
    "kruskal_result = perform_kruskal_wallis(df, 'External Line Agencies', 'Satisfaction')\n",
    "\n",
    "# Output the result\n",
    "print(\"Kruskal-Wallis Test Result:\", kruskal_result)"
   ]
  },
  {
   "cell_type": "code",
   "execution_count": 299,
   "metadata": {},
   "outputs": [
    {
     "name": "stdout",
     "output_type": "stream",
     "text": [
      "Kruskal-Wallis Test Result: {'Kruskal-Wallis H-statistic': 36.02754712515899, 'p-value': 1.5021646703285295e-08, 'Significance': 'statistically significant'}\n"
     ]
    }
   ],
   "source": [
    "kruskal_result = perform_kruskal_wallis(df, 'Legal Activities', 'Satisfaction')\n",
    "\n",
    "# Output the result\n",
    "print(\"Kruskal-Wallis Test Result:\", kruskal_result)"
   ]
  },
  {
   "cell_type": "code",
   "execution_count": 300,
   "metadata": {},
   "outputs": [
    {
     "name": "stdout",
     "output_type": "stream",
     "text": [
      "Kruskal-Wallis Test Result: {'Kruskal-Wallis H-statistic': 28.223706944953335, 'p-value': 7.435324162430941e-07, 'Significance': 'statistically significant'}\n"
     ]
    }
   ],
   "source": [
    "kruskal_result = perform_kruskal_wallis(df, 'Implementation Period', 'Satisfaction')\n",
    "\n",
    "# Output the result\n",
    "print(\"Kruskal-Wallis Test Result:\", kruskal_result)"
   ]
  },
  {
   "cell_type": "code",
   "execution_count": 301,
   "metadata": {},
   "outputs": [
    {
     "name": "stdout",
     "output_type": "stream",
     "text": [
      "Kruskal-Wallis Test Result: {'Kruskal-Wallis H-statistic': 24.07526982746532, 'p-value': 5.9172726648199914e-06, 'Significance': 'statistically significant'}\n"
     ]
    }
   ],
   "source": [
    "kruskal_result = perform_kruskal_wallis(df, 'Issuing Tax Certificate', 'Satisfaction')\n",
    "\n",
    "# Output the result\n",
    "print(\"Kruskal-Wallis Test Result:\", kruskal_result)"
   ]
  },
  {
   "cell_type": "code",
   "execution_count": 302,
   "metadata": {},
   "outputs": [
    {
     "name": "stdout",
     "output_type": "stream",
     "text": [
      "Kruskal-Wallis Test Result: {'Kruskal-Wallis H-statistic': 29.369295405094135, 'p-value': 4.193131998651135e-07, 'Significance': 'statistically significant'}\n"
     ]
    }
   ],
   "source": [
    "kruskal_result = perform_kruskal_wallis(df, 'Import & Export', 'Satisfaction')\n",
    "\n",
    "# Output the result\n",
    "print(\"Kruskal-Wallis Test Result:\", kruskal_result)"
   ]
  },
  {
   "cell_type": "code",
   "execution_count": 303,
   "metadata": {},
   "outputs": [
    {
     "name": "stdout",
     "output_type": "stream",
     "text": [
      "Kruskal-Wallis Test Result: {'Kruskal-Wallis H-statistic': 27.56222742601177, 'p-value': 1.0349952578903573e-06, 'Significance': 'statistically significant'}\n"
     ]
    }
   ],
   "source": [
    "kruskal_result = perform_kruskal_wallis(df, 'Industrial Relations', 'Satisfaction')\n",
    "\n",
    "# Output the result\n",
    "print(\"Kruskal-Wallis Test Result:\", kruskal_result)"
   ]
  },
  {
   "cell_type": "code",
   "execution_count": 304,
   "metadata": {},
   "outputs": [
    {
     "name": "stdout",
     "output_type": "stream",
     "text": [
      "Kruskal-Wallis Test Result: {'Kruskal-Wallis H-statistic': 41.55014828017234, 'p-value': 9.49510867649936e-10, 'Significance': 'statistically significant'}\n"
     ]
    }
   ],
   "source": [
    "kruskal_result = perform_kruskal_wallis(df, 'Research and Policy', 'Satisfaction')\n",
    "\n",
    "# Output the result\n",
    "print(\"Kruskal-Wallis Test Result:\", kruskal_result)"
   ]
  },
  {
   "cell_type": "code",
   "execution_count": 305,
   "metadata": {},
   "outputs": [
    {
     "name": "stdout",
     "output_type": "stream",
     "text": [
      "Kruskal-Wallis Test Result: {'Kruskal-Wallis H-statistic': 41.92537755255749, 'p-value': 7.870819240636112e-10, 'Significance': 'statistically significant'}\n"
     ]
    }
   ],
   "source": [
    "kruskal_result = perform_kruskal_wallis(df, 'IT', 'Satisfaction')\n",
    "\n",
    "# Output the result\n",
    "print(\"Kruskal-Wallis Test Result:\", kruskal_result)"
   ]
  },
  {
   "cell_type": "code",
   "execution_count": 306,
   "metadata": {},
   "outputs": [
    {
     "name": "stdout",
     "output_type": "stream",
     "text": [
      "Kruskal-Wallis Test Result: {'Kruskal-Wallis H-statistic': 33.02186936186668, 'p-value': 6.751374157264172e-08, 'Significance': 'statistically significant'}\n"
     ]
    }
   ],
   "source": [
    "kruskal_result = perform_kruskal_wallis(df, 'Zonal Infrastructure', 'Satisfaction')\n",
    "\n",
    "# Output the result\n",
    "print(\"Kruskal-Wallis Test Result:\", kruskal_result)"
   ]
  },
  {
   "cell_type": "code",
   "execution_count": 307,
   "metadata": {},
   "outputs": [
    {
     "name": "stdout",
     "output_type": "stream",
     "text": [
      "Kruskal-Wallis Test Result: {'Kruskal-Wallis H-statistic': 34.78514579791186, 'p-value': 2.7957707950623122e-08, 'Significance': 'statistically significant'}\n"
     ]
    }
   ],
   "source": [
    "kruskal_result = perform_kruskal_wallis(df, 'Zonal Utility', 'Satisfaction')\n",
    "\n",
    "# Output the result\n",
    "print(\"Kruskal-Wallis Test Result:\", kruskal_result)"
   ]
  },
  {
   "cell_type": "code",
   "execution_count": 308,
   "metadata": {},
   "outputs": [
    {
     "name": "stdout",
     "output_type": "stream",
     "text": [
      "Kruskal-Wallis Test Result: {'Kruskal-Wallis H-statistic': 31.67745877222751, 'p-value': 1.3222915641018976e-07, 'Significance': 'statistically significant'}\n"
     ]
    }
   ],
   "source": [
    "kruskal_result = perform_kruskal_wallis(df, 'Zonal Waste Management', 'Satisfaction')\n",
    "\n",
    "# Output the result\n",
    "print(\"Kruskal-Wallis Test Result:\", kruskal_result)"
   ]
  },
  {
   "cell_type": "code",
   "execution_count": 309,
   "metadata": {},
   "outputs": [
    {
     "name": "stdout",
     "output_type": "stream",
     "text": [
      "Kruskal-Wallis Test Result: {'Kruskal-Wallis H-statistic': 31.157309616658797, 'p-value': 1.7150476125098026e-07, 'Significance': 'statistically significant'}\n"
     ]
    }
   ],
   "source": [
    "kruskal_result = perform_kruskal_wallis(df, 'Zonal Security & Fire Facilities', 'Satisfaction')\n",
    "\n",
    "# Output the result\n",
    "print(\"Kruskal-Wallis Test Result:\", kruskal_result)"
   ]
  },
  {
   "cell_type": "code",
   "execution_count": 310,
   "metadata": {},
   "outputs": [
    {
     "name": "stdout",
     "output_type": "stream",
     "text": [
      "Kruskal-Wallis Test Result: {'Kruskal-Wallis H-statistic': 44.74405218459591, 'p-value': 1.9228814911537838e-10, 'Significance': 'statistically significant'}\n"
     ]
    }
   ],
   "source": [
    "kruskal_result = perform_kruskal_wallis(df, 'Tax incentives to investors', 'Satisfaction')\n",
    "\n",
    "# Output the result\n",
    "print(\"Kruskal-Wallis Test Result:\", kruskal_result)"
   ]
  },
  {
   "cell_type": "code",
   "execution_count": 311,
   "metadata": {},
   "outputs": [
    {
     "name": "stdout",
     "output_type": "stream",
     "text": [
      "Kruskal-Wallis Test Result: {'Kruskal-Wallis H-statistic': 41.32137191475305, 'p-value': 1.064579493673609e-09, 'Significance': 'statistically significant'}\n"
     ]
    }
   ],
   "source": [
    "kruskal_result = perform_kruskal_wallis(df, 'Government Policies', 'Satisfaction')\n",
    "\n",
    "# Output the result\n",
    "print(\"Kruskal-Wallis Test Result:\", kruskal_result)"
   ]
  },
  {
   "cell_type": "code",
   "execution_count": 312,
   "metadata": {},
   "outputs": [
    {
     "name": "stdout",
     "output_type": "stream",
     "text": [
      "Kruskal-Wallis Test Result: {'Kruskal-Wallis H-statistic': 39.26683248462778, 'p-value': 2.9738267594181917e-09, 'Significance': 'statistically significant'}\n"
     ]
    }
   ],
   "source": [
    "kruskal_result = perform_kruskal_wallis(df, 'Ease of doing business', 'Satisfaction')\n",
    "\n",
    "# Output the result\n",
    "print(\"Kruskal-Wallis Test Result:\", kruskal_result)"
   ]
  },
  {
   "cell_type": "code",
   "execution_count": 313,
   "metadata": {},
   "outputs": [
    {
     "name": "stdout",
     "output_type": "stream",
     "text": [
      "Kruskal-Wallis Test Result: {'Kruskal-Wallis H-statistic': 34.70079154053702, 'p-value': 2.916210424803176e-08, 'Significance': 'statistically significant'}\n"
     ]
    }
   ],
   "source": [
    "kruskal_result = perform_kruskal_wallis(df, 'Skilled labor', 'Satisfaction')\n",
    "\n",
    "# Output the result\n",
    "print(\"Kruskal-Wallis Test Result:\", kruskal_result)"
   ]
  },
  {
   "cell_type": "code",
   "execution_count": 314,
   "metadata": {},
   "outputs": [
    {
     "name": "stdout",
     "output_type": "stream",
     "text": [
      "Country                             0\n",
      "Type of Ownership                   0\n",
      "Industry Sector                     0\n",
      "Size of Investment                  0\n",
      "Investor Facilitation Center        0\n",
      "Environment                         0\n",
      "Engineering                         0\n",
      "Investment approvals                0\n",
      "External Line Agencies              0\n",
      "Legal Activities                    0\n",
      "Implementation Period               0\n",
      "Issuing Tax Certificate             0\n",
      "Import & Export                     0\n",
      "Industrial Relations                0\n",
      "Research and Policy                 0\n",
      "IT                                  0\n",
      "Zonal Infrastructure                0\n",
      "Zonal Utility                       0\n",
      "Zonal Waste Management              0\n",
      "Zonal Security & Fire Facilities    0\n",
      "Tax incentives to investors         0\n",
      "Government Policies                 0\n",
      "Ease of doing business              0\n",
      "Skilled labor                       0\n",
      "Satisfaction                        0\n",
      "Size of Investment_encoded          0\n",
      "dtype: int64\n"
     ]
    }
   ],
   "source": [
    "import numpy as np\n",
    "\n",
    "# Check for NaN values\n",
    "print(df.isna().sum())\n",
    "\n"
   ]
  },
  {
   "cell_type": "code",
   "execution_count": 315,
   "metadata": {},
   "outputs": [
    {
     "name": "stdout",
     "output_type": "stream",
     "text": [
      "0\n",
      "0\n"
     ]
    }
   ],
   "source": [
    "print(df['Satisfaction'].isna().sum())  # Check for NaNs\n",
    "print(np.isinf(df['Satisfaction']).sum())  # Check for infinite values\n",
    "\n"
   ]
  },
  {
   "cell_type": "code",
   "execution_count": 316,
   "metadata": {},
   "outputs": [],
   "source": [
    "df = df.drop(columns=['Type of Ownership', 'Country', 'Industry Sector', 'Size of Investment', 'Size of Investment_encoded'], axis = 1 )\n"
   ]
  },
  {
   "cell_type": "code",
   "execution_count": 317,
   "metadata": {},
   "outputs": [],
   "source": [
    "df = df.drop('Zonal Security & Fire Facilities',axis = 1)"
   ]
  },
  {
   "cell_type": "code",
   "execution_count": 318,
   "metadata": {
    "colab": {
     "base_uri": "https://localhost:8080/",
     "height": 429
    },
    "id": "5puI25P7nIWv",
    "outputId": "3578aea6-064f-4c17-dc6d-133db777c374"
   },
   "outputs": [
    {
     "name": "stdout",
     "output_type": "stream",
     "text": [
      "Index(['Investor Facilitation Center', 'Environment', 'Engineering',\n",
      "       'Investment approvals', 'External Line Agencies', 'Legal Activities',\n",
      "       'Implementation Period', 'Issuing Tax Certificate', 'Import & Export',\n",
      "       'Industrial Relations', 'Research and Policy', 'IT',\n",
      "       'Zonal Infrastructure', 'Zonal Utility', 'Zonal Waste Management',\n",
      "       'Tax incentives to investors', 'Government Policies',\n",
      "       'Ease of doing business', 'Skilled labor', 'Satisfaction'],\n",
      "      dtype='object')\n"
     ]
    }
   ],
   "source": [
    "print(df.columns)"
   ]
  },
  {
   "cell_type": "code",
   "execution_count": 319,
   "metadata": {
    "colab": {
     "base_uri": "https://localhost:8080/"
    },
    "id": "GL4RlQMGSDnG",
    "outputId": "3701a443-6f48-46b4-bacd-e4ab96ac1682"
   },
   "outputs": [],
   "source": [
    "import pandas as pd\n",
    "from sklearn.impute import SimpleImputer\n",
    "from sklearn.model_selection import train_test_split\n",
    "\n",
    "# Define the features (X) and target (y)\n",
    "X = df.drop('Satisfaction', axis=1)  # Drop the 'Satisfaction' column\n",
    "y = df['Satisfaction']  # Target variable\n",
    "\n",
    "# Initialize the imputer (e.g., fill NaN values with the mean of each column)\n",
    "imputer = SimpleImputer(strategy='mean')  # You can also use 'median' or 'most_frequent'\n",
    "X_imputed = imputer.fit_transform(X)\n",
    "\n",
    "# Convert the imputed X back to a DataFrame and keep the original column names\n",
    "X_imputed = pd.DataFrame(X_imputed, columns=X.columns)\n",
    "\n",
    "# Impute missing values for the target (y)\n",
    "imputer = SimpleImputer(strategy='most_frequent')\n",
    "y = imputer.fit_transform(y.values.reshape(-1, 1)).ravel()  # Use ravel() to flatten array\n",
    "\n",
    "# Split the data into training (80%) and test (20%) sets\n",
    "X_train, X_test, y_train, y_test = train_test_split(X, y, test_size=0.2, random_state=42)\n",
    "\n",
    "# Define the transformation function\n",
    "\n"
   ]
  },
  {
   "cell_type": "code",
   "execution_count": 320,
   "metadata": {},
   "outputs": [
    {
     "name": "stdout",
     "output_type": "stream",
     "text": [
      "Number of features in X_train: 19\n"
     ]
    }
   ],
   "source": [
    "print(\"Number of features in X_train:\", X_train.shape[1])\n",
    "\n"
   ]
  },
  {
   "cell_type": "code",
   "execution_count": 321,
   "metadata": {
    "colab": {
     "base_uri": "https://localhost:8080/"
    },
    "id": "98m0dDA9SDsN",
    "outputId": "c7137bde-4f0d-4026-ef9e-401a50e7bbc2"
   },
   "outputs": [
    {
     "name": "stdout",
     "output_type": "stream",
     "text": [
      "Linear Regression Performance:\n",
      "Mean Absolute Error: 10.052812018558214\n",
      "Mean Squared Error: 166.5296747491211\n",
      "R-squared: 0.4621267992941672\n"
     ]
    }
   ],
   "source": [
    "# Initialize the Linear Regression model\n",
    "linear_model = LinearRegression()\n",
    "\n",
    "# Train the model\n",
    "linear_model.fit(X_train, y_train)\n",
    "\n",
    "# Predict on the test set\n",
    "y_pred = linear_model.predict(X_test)\n",
    "\n",
    "# Evaluate the model\n",
    "print(\"Linear Regression Performance:\")\n",
    "print(f\"Mean Absolute Error: {mean_absolute_error(y_test, y_pred)}\")\n",
    "print(f\"Mean Squared Error: {mean_squared_error(y_test, y_pred)}\")\n",
    "print(f\"R-squared: {r2_score(y_test, y_pred)}\")\n"
   ]
  },
  {
   "cell_type": "code",
   "execution_count": 322,
   "metadata": {
    "colab": {
     "base_uri": "https://localhost:8080/"
    },
    "id": "JHbcbkWESDwt",
    "outputId": "56912f81-778a-452a-abec-b1d1c681332e"
   },
   "outputs": [
    {
     "name": "stdout",
     "output_type": "stream",
     "text": [
      "Decision Tree Performance:\n",
      "Mean Absolute Error: 14.740740740740739\n",
      "Mean Squared Error: 433.30100874368947\n",
      "R-squared: -0.3995163372122319\n"
     ]
    }
   ],
   "source": [
    "# Initialize the Decision Tree model\n",
    "decision_tree_model = DecisionTreeRegressor(random_state=42)\n",
    "\n",
    "# Train the model\n",
    "decision_tree_model.fit(X_train, y_train)\n",
    "\n",
    "# Predict on the test set\n",
    "y_pred_tree = decision_tree_model.predict(X_test)\n",
    "\n",
    "# Evaluate the model\n",
    "print(\"Decision Tree Performance:\")\n",
    "print(f\"Mean Absolute Error: {mean_absolute_error(y_test, y_pred_tree)}\")\n",
    "print(f\"Mean Squared Error: {mean_squared_error(y_test, y_pred_tree)}\")\n",
    "print(f\"R-squared: {r2_score(y_test, y_pred_tree)}\")\n"
   ]
  },
  {
   "cell_type": "code",
   "execution_count": 323,
   "metadata": {
    "colab": {
     "base_uri": "https://localhost:8080/"
    },
    "id": "1Ou5N54hSD19",
    "outputId": "a317c3f6-e384-42f5-85f7-2e3cbb6de11c"
   },
   "outputs": [
    {
     "name": "stdout",
     "output_type": "stream",
     "text": [
      "Random Forest Performance:\n",
      "Mean Absolute Error: 11.200169752058644\n",
      "Test Error: 208.2180606971886\n",
      "Train Error: 55.08844187377358\n",
      "R-squared: 0.32747773079674947\n"
     ]
    }
   ],
   "source": [
    "# Initialize the Random Forest model\n",
    "random_forest_model = RandomForestRegressor(n_estimators=100, random_state=42)\n",
    "\n",
    "# Train the model\n",
    "random_forest_model.fit(X_train, y_train)\n",
    "\n",
    "# Predict on the test set\n",
    "y_pred_rf = random_forest_model.predict(X_test)\n",
    "y_train_pred_rf = random_forest_model.predict(X_train)\n",
    "# Evaluate the model\n",
    "print(\"Random Forest Performance:\")\n",
    "print(f\"Mean Absolute Error: {mean_absolute_error(y_test, y_pred_rf)}\")\n",
    "print(f\"Test Error: {mean_squared_error(y_test, y_pred_rf)}\")\n",
    "print(f\"Train Error: {mean_squared_error(y_train, y_train_pred_rf)}\")\n",
    "print(f\"R-squared: {r2_score(y_test, y_pred_rf)}\")\n"
   ]
  },
  {
   "cell_type": "code",
   "execution_count": 324,
   "metadata": {
    "colab": {
     "base_uri": "https://localhost:8080/"
    },
    "id": "asjq334qfjF7",
    "outputId": "eb0cb22b-606e-4e10-fbf7-972b28e4a04d"
   },
   "outputs": [
    {
     "name": "stdout",
     "output_type": "stream",
     "text": [
      "XGBoost Performance:\n",
      "Mean Absolute Error: 13.099474906921387\n",
      "Test Error: 321.6461181640625\n",
      "R-squared: -0.03888285160064697\n"
     ]
    }
   ],
   "source": [
    "import xgboost as xgb\n",
    "\n",
    "xgboost_model = xgb.XGBRegressor(n_estimators=100, random_state=42)\n",
    "\n",
    "# Train the model\n",
    "xgboost_model.fit(X_train, y_train)\n",
    "\n",
    "# Predict on the test set\n",
    "y_pred_xgb = xgboost_model.predict(X_test)\n",
    "test_error = mean_squared_error(y_test,y_pred_xgb)\n",
    "\n",
    "# Evaluate the model\n",
    "print(\"XGBoost Performance:\")\n",
    "print(f\"Mean Absolute Error: {mean_absolute_error(y_test, y_pred_xgb)}\")\n",
    "print(f\"Test Error: {mean_squared_error(y_test, y_pred_xgb)}\")\n",
    "print(f\"R-squared: {r2_score(y_test, y_pred_xgb)}\")"
   ]
  },
  {
   "cell_type": "code",
   "execution_count": 325,
   "metadata": {},
   "outputs": [
    {
     "name": "stdout",
     "output_type": "stream",
     "text": [
      "KNN Regressor Performance:\n",
      "Mean Absolute Error: 10.096296296296297\n",
      "Test Error: 165.82666666666668\n",
      "Train Error: 133.0062962962963\n",
      "R-squared: 0.46439744089604085\n"
     ]
    }
   ],
   "source": [
    "from sklearn.neighbors import KNeighborsRegressor\n",
    "from sklearn.metrics import mean_absolute_error, mean_squared_error, r2_score\n",
    "\n",
    "# Initialize the KNN regressor\n",
    "knn_model = KNeighborsRegressor(n_neighbors=5)\n",
    "\n",
    "# Train the model\n",
    "knn_model.fit(X_train, y_train)\n",
    "\n",
    "# Predict on the test set\n",
    "y_pred_knn = knn_model.predict(X_test)\n",
    "y_train_pred_knn = knn_model.predict(X_train)\n",
    "\n",
    "# Evaluate the model\n",
    "print(\"KNN Regressor Performance:\")\n",
    "print(f\"Mean Absolute Error: {mean_absolute_error(y_test, y_pred_knn)}\")\n",
    "print(f\"Test Error: {mean_squared_error(y_test, y_pred_knn)}\")\n",
    "print(f\"Train Error: {mean_squared_error(y_train, y_train_pred_knn)}\")\n",
    "print(f\"R-squared: {r2_score(y_test, y_pred_knn)}\")\n"
   ]
  },
  {
   "cell_type": "code",
   "execution_count": 326,
   "metadata": {},
   "outputs": [
    {
     "name": "stdout",
     "output_type": "stream",
     "text": [
      "SVR Performance:\n",
      "Mean Absolute Error: 11.483409668333058\n",
      "Test Error (MSE): 201.08176728699894\n",
      "R-squared: 0.35052720221076183\n"
     ]
    }
   ],
   "source": [
    "from sklearn.svm import SVR\n",
    "\n",
    "svr_model = SVR(kernel='rbf')\n",
    "svr_model.fit(X_train, y_train)\n",
    "y_pred_svr = svr_model.predict(X_test)\n",
    "\n",
    "print(\"SVR Performance:\")\n",
    "print(f\"Mean Absolute Error: {mean_absolute_error(y_test, y_pred_svr)}\")\n",
    "print(f\"Test Error (MSE): {mean_squared_error(y_test, y_pred_svr)}\")\n",
    "print(f\"R-squared: {r2_score(y_test, y_pred_svr)}\")\n"
   ]
  },
  {
   "cell_type": "code",
   "execution_count": 327,
   "metadata": {},
   "outputs": [
    {
     "name": "stdout",
     "output_type": "stream",
     "text": [
      "Gradient Boosting Performance:\n",
      "Mean Absolute Error: 12.718200042804357\n",
      "Test Error (MSE): 267.10146868384663\n",
      "R-squared: 0.13729056343474577\n"
     ]
    }
   ],
   "source": [
    "from sklearn.ensemble import GradientBoostingRegressor\n",
    "\n",
    "gb_model = GradientBoostingRegressor(n_estimators=100, random_state=42)\n",
    "gb_model.fit(X_train, y_train)\n",
    "y_pred_gb = gb_model.predict(X_test)\n",
    "\n",
    "print(\"Gradient Boosting Performance:\")\n",
    "print(f\"Mean Absolute Error: {mean_absolute_error(y_test, y_pred_gb)}\")\n",
    "print(f\"Test Error (MSE): {mean_squared_error(y_test, y_pred_gb)}\")\n",
    "print(f\"R-squared: {r2_score(y_test, y_pred_gb)}\")\n"
   ]
  },
  {
   "cell_type": "code",
   "execution_count": 328,
   "metadata": {},
   "outputs": [
    {
     "name": "stdout",
     "output_type": "stream",
     "text": [
      "AdaBoost Performance:\n",
      "Mean Absolute Error: 10.048891003714292\n",
      "Test Error (MSE): 145.87224227498592\n",
      "R-squared: 0.5288481169209907\n"
     ]
    }
   ],
   "source": [
    "from sklearn.ensemble import AdaBoostRegressor\n",
    "\n",
    "ab_model = AdaBoostRegressor(n_estimators=100, random_state=42)\n",
    "ab_model.fit(X_train, y_train)\n",
    "y_pred_ab = ab_model.predict(X_test)\n",
    "\n",
    "print(\"AdaBoost Performance:\")\n",
    "print(f\"Mean Absolute Error: {mean_absolute_error(y_test, y_pred_ab)}\")\n",
    "print(f\"Test Error (MSE): {mean_squared_error(y_test, y_pred_ab)}\")\n",
    "print(f\"R-squared: {r2_score(y_test, y_pred_ab)}\")\n"
   ]
  },
  {
   "cell_type": "code",
   "execution_count": 329,
   "metadata": {},
   "outputs": [
    {
     "name": "stdout",
     "output_type": "stream",
     "text": [
      "Extra Trees Performance:\n",
      "Mean Absolute Error: 12.506490299823634\n",
      "Test Error (MSE): 286.08913077274826\n",
      "R-squared: 0.0759624271907744\n"
     ]
    }
   ],
   "source": [
    "from sklearn.ensemble import ExtraTreesRegressor\n",
    "\n",
    "et_model = ExtraTreesRegressor(n_estimators=100, random_state=42)\n",
    "et_model.fit(X_train, y_train)\n",
    "y_pred_et = et_model.predict(X_test)\n",
    "\n",
    "print(\"Extra Trees Performance:\")\n",
    "print(f\"Mean Absolute Error: {mean_absolute_error(y_test, y_pred_et)}\")\n",
    "print(f\"Test Error (MSE): {mean_squared_error(y_test, y_pred_et)}\")\n",
    "print(f\"R-squared: {r2_score(y_test, y_pred_et)}\")\n"
   ]
  },
  {
   "cell_type": "code",
   "execution_count": 330,
   "metadata": {},
   "outputs": [
    {
     "name": "stdout",
     "output_type": "stream",
     "text": [
      "Index(['Investor Facilitation Center', 'Environment', 'Engineering',\n",
      "       'Investment approvals', 'External Line Agencies', 'Legal Activities',\n",
      "       'Implementation Period', 'Issuing Tax Certificate', 'Import & Export',\n",
      "       'Industrial Relations', 'Research and Policy', 'IT',\n",
      "       'Zonal Infrastructure', 'Zonal Utility', 'Zonal Waste Management',\n",
      "       'Tax incentives to investors', 'Government Policies',\n",
      "       'Ease of doing business', 'Skilled labor', 'Satisfaction'],\n",
      "      dtype='object')\n"
     ]
    }
   ],
   "source": [
    "print(df.columns)"
   ]
  },
  {
   "cell_type": "code",
   "execution_count": 331,
   "metadata": {},
   "outputs": [],
   "source": [
    "selected_columns = ['Investor Facilitation Center', 'Environment', 'Engineering',\n",
    "       'Investment approvals', 'External Line Agencies', 'Legal Activities',\n",
    "       'Implementation Period', 'Issuing Tax Certificate', 'Import & Export',\n",
    "       'Industrial Relations', 'Research and Policy', 'IT',\n",
    "       'Zonal Infrastructure', 'Zonal Utility', 'Zonal Waste Management',\n",
    "       'Tax incentives to investors', 'Government Policies',\n",
    "       'Ease of doing business', 'Skilled labor']"
   ]
  },
  {
   "cell_type": "code",
   "execution_count": 332,
   "metadata": {
    "colab": {
     "base_uri": "https://localhost:8080/",
     "height": 1000
    },
    "id": "g_rFR3AQT8wh",
    "outputId": "7f9c3469-10b1-473e-b9ef-109132e588c6",
    "scrolled": true
   },
   "outputs": [
    {
     "name": "stderr",
     "output_type": "stream",
     "text": [
      "[I 2025-03-05 15:37:38,305] A new study created in memory with name: no-name-610d8396-425c-485d-9910-c763660ae8e5\n",
      "[I 2025-03-05 15:37:38,373] Trial 0 finished with value: 0.3416878501541679 and parameters: {'n_neighbors': 17, 'weights': 'distance', 'p': 2, 'leaf_size': 23}. Best is trial 0 with value: 0.3416878501541679.\n",
      "[I 2025-03-05 15:37:38,389] Trial 1 finished with value: 0.3161596604402227 and parameters: {'n_neighbors': 4, 'weights': 'uniform', 'p': 1, 'leaf_size': 49}. Best is trial 0 with value: 0.3416878501541679.\n",
      "[I 2025-03-05 15:37:38,405] Trial 2 finished with value: 0.48568589834473486 and parameters: {'n_neighbors': 6, 'weights': 'uniform', 'p': 1, 'leaf_size': 32}. Best is trial 2 with value: 0.48568589834473486.\n",
      "[I 2025-03-05 15:37:38,422] Trial 3 finished with value: 0.33263284377930136 and parameters: {'n_neighbors': 16, 'weights': 'distance', 'p': 1, 'leaf_size': 18}. Best is trial 2 with value: 0.48568589834473486.\n",
      "[I 2025-03-05 15:37:38,443] Trial 4 finished with value: 0.5015465442548197 and parameters: {'n_neighbors': 7, 'weights': 'uniform', 'p': 1, 'leaf_size': 36}. Best is trial 4 with value: 0.5015465442548197.\n",
      "[I 2025-03-05 15:37:38,464] Trial 5 finished with value: 0.49623911184560343 and parameters: {'n_neighbors': 20, 'weights': 'uniform', 'p': 2, 'leaf_size': 41}. Best is trial 4 with value: 0.5015465442548197.\n",
      "[I 2025-03-05 15:37:38,480] Trial 6 finished with value: -0.6796645163577071 and parameters: {'n_neighbors': 1, 'weights': 'uniform', 'p': 1, 'leaf_size': 17}. Best is trial 4 with value: 0.5015465442548197.\n",
      "[I 2025-03-05 15:37:38,495] Trial 7 finished with value: 0.4942118881366746 and parameters: {'n_neighbors': 15, 'weights': 'uniform', 'p': 2, 'leaf_size': 26}. Best is trial 4 with value: 0.5015465442548197.\n",
      "[I 2025-03-05 15:37:38,507] Trial 8 finished with value: 0.01688605430120882 and parameters: {'n_neighbors': 2, 'weights': 'uniform', 'p': 2, 'leaf_size': 49}. Best is trial 4 with value: 0.5015465442548197.\n",
      "[I 2025-03-05 15:37:38,522] Trial 9 finished with value: 0.49267227005642933 and parameters: {'n_neighbors': 14, 'weights': 'uniform', 'p': 1, 'leaf_size': 26}. Best is trial 4 with value: 0.5015465442548197.\n",
      "[I 2025-03-05 15:37:38,611] Trial 10 finished with value: 0.3344158936501047 and parameters: {'n_neighbors': 8, 'weights': 'distance', 'p': 1, 'leaf_size': 36}. Best is trial 4 with value: 0.5015465442548197.\n",
      "[I 2025-03-05 15:37:38,669] Trial 11 finished with value: 0.4923490445908384 and parameters: {'n_neighbors': 11, 'weights': 'uniform', 'p': 2, 'leaf_size': 40}. Best is trial 4 with value: 0.5015465442548197.\n",
      "[I 2025-03-05 15:37:38,706] Trial 12 finished with value: 0.4923490445908384 and parameters: {'n_neighbors': 11, 'weights': 'uniform', 'p': 2, 'leaf_size': 42}. Best is trial 4 with value: 0.5015465442548197.\n",
      "[I 2025-03-05 15:37:38,754] Trial 13 finished with value: 0.49623911184560343 and parameters: {'n_neighbors': 20, 'weights': 'uniform', 'p': 2, 'leaf_size': 41}. Best is trial 4 with value: 0.5015465442548197.\n",
      "[I 2025-03-05 15:37:38,804] Trial 14 finished with value: 0.31019870435363806 and parameters: {'n_neighbors': 7, 'weights': 'distance', 'p': 1, 'leaf_size': 34}. Best is trial 4 with value: 0.5015465442548197.\n",
      "[I 2025-03-05 15:37:38,936] Trial 15 finished with value: 0.5035619421824069 and parameters: {'n_neighbors': 19, 'weights': 'uniform', 'p': 2, 'leaf_size': 11}. Best is trial 15 with value: 0.5035619421824069.\n",
      "[I 2025-03-05 15:37:38,983] Trial 16 finished with value: 0.4793091837096375 and parameters: {'n_neighbors': 9, 'weights': 'uniform', 'p': 2, 'leaf_size': 13}. Best is trial 15 with value: 0.5035619421824069.\n",
      "[I 2025-03-05 15:37:39,018] Trial 17 finished with value: 0.513396610778069 and parameters: {'n_neighbors': 13, 'weights': 'uniform', 'p': 1, 'leaf_size': 10}. Best is trial 17 with value: 0.513396610778069.\n",
      "[I 2025-03-05 15:37:39,065] Trial 18 finished with value: 0.3559019947859142 and parameters: {'n_neighbors': 13, 'weights': 'distance', 'p': 2, 'leaf_size': 13}. Best is trial 17 with value: 0.513396610778069.\n",
      "[I 2025-03-05 15:37:39,118] Trial 19 finished with value: 0.5167287686527489 and parameters: {'n_neighbors': 18, 'weights': 'uniform', 'p': 1, 'leaf_size': 19}. Best is trial 19 with value: 0.5167287686527489.\n"
     ]
    },
    {
     "name": "stdout",
     "output_type": "stream",
     "text": [
      "Best Parameters: {'n_neighbors': 18, 'weights': 'uniform', 'p': 1, 'leaf_size': 19}\n",
      "Final Model Performance:\n",
      "R-squared: 0.5167287686527489\n",
      "Mean Absolute Error: 9.948559670781894\n",
      "Mean Squared Error: 149.62448559670779\n",
      "Cross-validated R-squared scores: [ 0.33883051  0.35557572  0.2243376   0.29088625 -0.09515633]\n",
      "Mean cross-validated R-squared: 0.22289475195651973\n"
     ]
    }
   ],
   "source": [
    "import optuna\n",
    "from sklearn.neighbors import KNeighborsRegressor\n",
    "from sklearn.model_selection import train_test_split, cross_val_score\n",
    "from sklearn.preprocessing import StandardScaler\n",
    "from sklearn.metrics import mean_absolute_error, mean_squared_error, r2_score\n",
    "import pandas as pd\n",
    "\n",
    "# Load your data here\n",
    "# df = pd.read_csv('your_data.csv')\n",
    "\n",
    "# Define the features (X) and target (y)\n",
    "X = df.drop('Satisfaction', axis=1)  # Replace 'Satisfaction' with the name of your target column\n",
    "y = df['Satisfaction']\n",
    "\n",
    "# Step 1: Scale the Features using StandardScaler\n",
    "scaler = StandardScaler()\n",
    "X_scaled = scaler.fit_transform(X)\n",
    "\n",
    "# Step 2: Split the data into training and testing sets\n",
    "X_train, X_test, y_train, y_test = train_test_split(X_scaled, y, test_size=0.2, random_state=42)\n",
    "\n",
    "# Step 3: Define the objective function for Optuna\n",
    "def objective(trial):\n",
    "    # Define the hyperparameter search space\n",
    "    params = {\n",
    "        'n_neighbors': trial.suggest_int('n_neighbors', 1, 20),  # Number of neighbors\n",
    "        'weights': trial.suggest_categorical('weights', ['uniform', 'distance']),  # Weight function\n",
    "        'p': trial.suggest_int('p', 1, 2),  # Power parameter for the Minkowski distance metric\n",
    "        'leaf_size': trial.suggest_int('leaf_size', 10, 50),  # Leaf size for KDTree or BallTree\n",
    "    }\n",
    "\n",
    "    # Initialize the KNN regressor with the selected parameters\n",
    "    model = KNeighborsRegressor(**params)\n",
    "    \n",
    "    # Fit the model on the training data\n",
    "    model.fit(X_train, y_train)\n",
    "    \n",
    "    # Predict on the test set\n",
    "    preds = model.predict(X_test)\n",
    "    \n",
    "    # Return the R-squared score\n",
    "    return r2_score(y_test, preds)\n",
    "\n",
    "# Step 4: Create an Optuna study for maximizing the R-squared score\n",
    "study = optuna.create_study(direction='maximize')\n",
    "\n",
    "# Optimize the study for 20 trials\n",
    "study.optimize(objective, n_trials=20)\n",
    "\n",
    "# Output the best parameters found\n",
    "print(\"Best Parameters:\", study.best_params)\n",
    "\n",
    "# Step 5: Retrain the model with the best hyperparameters found\n",
    "best_knn = KNeighborsRegressor(**study.best_params)\n",
    "\n",
    "# Fit the model on the training data\n",
    "best_knn.fit(X_train, y_train)\n",
    "\n",
    "# Step 6: Predict on the test set\n",
    "y_pred = best_knn.predict(X_test)\n",
    "\n",
    "# Step 7: Evaluate the model performance\n",
    "print(\"Final Model Performance:\")\n",
    "print(f\"R-squared: {r2_score(y_test, y_pred)}\")\n",
    "print(f\"Mean Absolute Error: {mean_absolute_error(y_test, y_pred)}\")\n",
    "print(f\"Mean Squared Error: {mean_squared_error(y_test, y_pred)}\")\n",
    "\n",
    "# Step 8: Perform Cross-Validation for a more robust evaluation\n",
    "cv_scores = cross_val_score(best_knn, X_train, y_train, cv=5, scoring='r2')\n",
    "print(f\"Cross-validated R-squared scores: {cv_scores}\")\n",
    "print(f\"Mean cross-validated R-squared: {cv_scores.mean()}\")\n"
   ]
  },
  {
   "cell_type": "code",
   "execution_count": 333,
   "metadata": {},
   "outputs": [
    {
     "name": "stderr",
     "output_type": "stream",
     "text": [
      "C:\\Users\\DELL\\AppData\\Local\\anaconda3\\Lib\\site-packages\\sklearn\\model_selection\\_search.py:317: UserWarning: The total space of parameters 18 is smaller than n_iter=20. Running 18 iterations. For exhaustive searches, use GridSearchCV.\n",
      "  warnings.warn(\n"
     ]
    },
    {
     "name": "stdout",
     "output_type": "stream",
     "text": [
      "Best Parameters: {'n_estimators': 100, 'loss': 'square', 'learning_rate': 0.05}\n"
     ]
    }
   ],
   "source": [
    "from sklearn.ensemble import AdaBoostRegressor\n",
    "from sklearn.model_selection import RandomizedSearchCV\n",
    "\n",
    "# Initialize the AdaBoostRegressor\n",
    "ada_model = AdaBoostRegressor(random_state=42)\n",
    "X_train, X_test, y_train, y_test = train_test_split(X, y, test_size=0.2, random_state=42)\n",
    "\n",
    "# Define the hyperparameter grid\n",
    "param_grid = {\n",
    "    'n_estimators': [100, 200, 300],\n",
    "    'learning_rate': [0.01, 0.05, 0.1],\n",
    "    'loss': ['linear', 'square']\n",
    "}\n",
    "\n",
    "\n",
    "\n",
    "\n",
    "# Perform RandomizedSearchCV\n",
    "ada_random = RandomizedSearchCV(ada_model, param_grid, n_iter=20, cv=5, scoring='r2', random_state=42, n_jobs=-1)\n",
    "ada_random.fit(X_train, y_train)\n",
    "\n",
    "# Print the best parameters\n",
    "print(\"Best Parameters:\", ada_random.best_params_)\n"
   ]
  },
  {
   "cell_type": "code",
   "execution_count": 334,
   "metadata": {},
   "outputs": [
    {
     "name": "stdout",
     "output_type": "stream",
     "text": [
      "Final Model Performance on Test Data:\n",
      "Test R-squared: 0.49301458809227416\n",
      "Test Mean Absolute Error: 10.219594810396881\n",
      "Test Mean Squared Error: 156.96657806477555\n",
      "\n",
      "Final Model Performance on Train Data:\n",
      "Train R-squared: 0.5605095841097867\n",
      "Train Mean Absolute Error: 8.549152450438198\n",
      "Train Mean Squared Error: 109.40187748372306\n"
     ]
    }
   ],
   "source": [
    "from sklearn.ensemble import AdaBoostRegressor\n",
    "from sklearn.metrics import mean_squared_error, mean_absolute_error, r2_score\n",
    "\n",
    "# Retrain the model with the best hyperparameters found\n",
    "best_ada = AdaBoostRegressor(**ada_random.best_params_)  # Use the best parameters found from RandomizedSearchCV\n",
    "\n",
    "# Fit the model on the training data\n",
    "best_ada.fit(X_train, y_train)\n",
    "\n",
    "# Predict on the test and train sets\n",
    "y_pred_ada_test = best_ada.predict(X_test)\n",
    "y_pred_ada_train = best_ada.predict(X_train)\n",
    "\n",
    "# Evaluate the model performance on test data\n",
    "print(\"Final Model Performance on Test Data:\")\n",
    "print(f\"Test R-squared: {r2_score(y_test, y_pred_ada_test)}\")\n",
    "print(f\"Test Mean Absolute Error: {mean_absolute_error(y_test, y_pred_ada_test)}\")\n",
    "print(f\"Test Mean Squared Error: {mean_squared_error(y_test, y_pred_ada_test)}\")\n",
    "\n",
    "# Evaluate the model performance on train data\n",
    "print(\"\\nFinal Model Performance on Train Data:\")\n",
    "print(f\"Train R-squared: {r2_score(y_train, y_pred_ada_train)}\")\n",
    "print(f\"Train Mean Absolute Error: {mean_absolute_error(y_train, y_pred_ada_train)}\")\n",
    "print(f\"Train Mean Squared Error: {mean_squared_error(y_train, y_pred_ada_train)}\")\n"
   ]
  },
  {
   "cell_type": "code",
   "execution_count": 335,
   "metadata": {},
   "outputs": [
    {
     "data": {
      "image/png": "[encoded data removed]",
      "text/plain": [
       "<Figure size 1000x600 with 1 Axes>"
      ]
     },
     "metadata": {},
     "output_type": "display_data"
    }
   ],
   "source": [
    "import matplotlib.pyplot as plt\n",
    "import numpy as np\n",
    "import pandas as pd\n",
    "from sklearn.ensemble import AdaBoostRegressor\n",
    "\n",
    "# Fit the AdaBoost model (assuming it's already trained)\n",
    "best_ada = AdaBoostRegressor(n_estimators=100, learning_rate=0.05, loss='square', random_state=42)\n",
    "best_ada.fit(X_train, y_train)\n",
    "\n",
    "# Get feature importances\n",
    "importances = best_ada.feature_importances_\n",
    "\n",
    "# Sort the feature importances in descending order\n",
    "indices = np.argsort(importances)[::-1]\n",
    "\n",
    "# Convert X_train to a DataFrame if it is a numpy ndarray\n",
    "if isinstance(X_train, np.ndarray):\n",
    "    X_train = pd.DataFrame(X_train, columns=selected_columns)\n",
    "\n",
    "# Create a plot of feature importances\n",
    "plt.figure(figsize=(10, 6))\n",
    "plt.title(\"Feature Importances (AdaBoost Regressor)\")\n",
    "plt.barh(range(X_train.shape[1]), importances[indices], align=\"center\")\n",
    "plt.yticks(range(X_train.shape[1]), [X_train.columns[i] for i in indices])\n",
    "plt.xlabel(\"Relative Importance\")\n",
    "plt.tight_layout()\n",
    "plt.show()\n"
   ]
  },
  {
   "cell_type": "code",
   "execution_count": 336,
   "metadata": {
    "colab": {
     "base_uri": "https://localhost:8080/",
     "height": 236
    },
    "id": "9N0-4Gkx77Cj",
    "outputId": "7b4acf1d-114d-40ee-d6d0-061732c6c91d"
   },
   "outputs": [
    {
     "name": "stdout",
     "output_type": "stream",
     "text": [
      "Model saved successfully!\n"
     ]
    }
   ],
   "source": [
    "import joblib\n",
    "\n",
    "# Save the trained AdaBoost model\n",
    "joblib.dump(best_ada, 'C:\\\\Users\\\\DELL\\\\Desktop\\\\Research project\\\\app\\\\ada_model.pkl')\n",
    "\n",
    "\n",
    "\n",
    "print(\"Model saved successfully!\")\n",
    "#cd \"C:\\Users\\DELL\\Desktop\\Research project\\app\"\n",
    "#streamlit run app.py\n"
   ]
  },
  {
   "cell_type": "code",
   "execution_count": 339,
   "metadata": {},
   "outputs": [
    {
     "data": {
      "text/plain": [
       "DeltaGenerator()"
      ]
     },
     "execution_count": 339,
     "metadata": {},
     "output_type": "execute_result"
    }
   ],
   "source": [
    "import streamlit as st\n",
    "import joblib\n",
    "import pandas as pd\n",
    "\n",
    "# Load the trained model\n",
    "model = joblib.load('C:\\\\Users\\\\DELL\\\\Desktop\\\\Research project\\\\app\\\\ada_model.pkl')\n",
    "\n",
    "# Set up the Streamlit page with title and custom background\n",
    "st.set_page_config(page_title=\"Investor Satisfaction Predictor\", layout=\"wide\")\n",
    "st.markdown(\"\"\"\n",
    "    <style>\n",
    "        .reportview-container {\n",
    "            background: #f4f7fa;\n",
    "        }\n",
    "        .sidebar .sidebar-content {\n",
    "            background-color: #2a3b4c;\n",
    "            color: white;\n",
    "        }\n",
    "        .stButton>button {\n",
    "            background-color: #4CAF50;\n",
    "            color: white;\n",
    "            font-size: 16px;\n",
    "            border-radius: 5px;\n",
    "        }\n",
    "    </style>\n",
    "    \"\"\", unsafe_allow_html=True)\n",
    "\n",
    "# Set title and description\n",
    "st.title('Investor Satisfaction of ABC Investors')\n",
    "st.markdown(\"\"\"\n",
    "    <div style=\"font-size:18px; color:#555;\">Select the satisfaction on each ABC Department & External Agencies to predict the Investor Satisfaction out of 100</div>\n",
    "\"\"\", unsafe_allow_html=True)\n",
    "\n",
    "# Define ordinal features\n",
    "ordinal_features = [\n",
    "    'Investor Facilitation Center', 'Environment', 'Engineering',\n",
    "       'Investment approvals', 'External Line Agencies', 'Legal Activities',\n",
    "       'Implementation Period', 'Issuing Tax Certificate', 'Import & Export',\n",
    "       'Industrial Relations', 'Research and Policy', 'IT',\n",
    "       'Zonal Infrastructure', 'Zonal Utility', 'Zonal Waste Management',\n",
    "       'Tax incentives to investors', 'Government Policies',\n",
    "       'Ease of doing business', 'Skilled labor'\n",
    "]\n",
    "\n",
    "# Initialize session state only if it's not set\n",
    "if \"feature_values\" not in st.session_state:\n",
    "    st.session_state.feature_values = {feature: 3 for feature in ordinal_features}\n",
    "\n",
    "# Sidebar for user input\n",
    "st.sidebar.header('Adjust Department Satisfaction Levels')\n",
    "for feature in ordinal_features:\n",
    "    st.session_state.feature_values[feature] = st.sidebar.slider(\n",
    "        feature, 3, 5, value=st.session_state.feature_values[feature], step=1\n",
    "    )\n",
    "\n",
    "# Add a button to predict and refresh the input\n",
    "col1, col2 = st.columns([3, 1])\n",
    "\n",
    "# Prediction button in the second column for better layout\n",
    "with col2:\n",
    "    if st.button('Predict'):\n",
    "        # Convert session state values to a DataFrame\n",
    "        input_data = pd.DataFrame([{feature: st.session_state.feature_values[feature] for feature in ordinal_features}])\n",
    "        \n",
    "        # Debugging step: Print the input data\n",
    "        st.write(\"Input Data for Prediction:\")\n",
    "        st.write(input_data)\n",
    "        \n",
    "        # Make prediction\n",
    "        predicted_satisfaction = model.predict(input_data)\n",
    "        \n",
    "        # Display prediction\n",
    "        st.success(f'Predicted Satisfaction Score: {predicted_satisfaction[0]:.2f} out of 100')\n",
    "\n",
    "    # Refresh button to reset all sliders\n",
    "    if st.button(\"Refresh All Sliders\"):\n",
    "        st.session_state.feature_values = {feature: 3 for feature in ordinal_features}\n",
    "        st.experimental_rerun()  # Refresh the page\n",
    "\n",
    "# Optionally display more information\n",
    "st.markdown(\"\"\"\n",
    "    <div style=\"font-size:14px; color:#777;\">Note: Adjust the satisfaction level of each department or agency and click \"Predict\" to see the predicted satisfaction score for the investor.</div>\n",
    "\"\"\", unsafe_allow_html=True)\n"
   ]
  }
 ],
 "metadata": {
  "colab": {
   "provenance": []
  },
  "kernelspec": {
   "display_name": "Python 3 (ipykernel)",
   "language": "python",
   "name": "python3"
  },
  "language_info": {
   "codemirror_mode": {
    "name": "ipython",
    "version": 3
   },
   "file_extension": ".py",
   "mimetype": "text/x-python",
   "name": "python",
   "nbconvert_exporter": "python",
   "pygments_lexer": "ipython3",
   "version": "3.12.7"
  }
 },
 "nbformat": 4,
 "nbformat_minor": 4
}
